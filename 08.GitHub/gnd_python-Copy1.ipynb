{
 "cells": [
  {
   "cell_type": "code",
   "execution_count": 2,
   "metadata": {
    "collapsed": true
   },
   "outputs": [],
   "source": [
    "# Limpieza de los detalles CPEs\n",
    "\n",
    "# Librerias necesarias\n",
    "import re\n",
    "import pandas as pd\n",
    "import numpy as np\n",
    "import swifter\n",
    "import gc\n",
    "import nltk\n",
    "\n",
    "from nltk.stem import SnowballStemmer\n",
    "from nltk.corpus import stopwords"
   ]
  },
  {
   "cell_type": "code",
   "execution_count": 10,
   "metadata": {},
   "outputs": [
    {
     "name": "stdout",
     "output_type": "stream",
     "text": [
      "CPU times: user 1min 23s, sys: 8.06 s, total: 1min 31s\n",
      "Wall time: 1min 31s\n"
     ]
    }
   ],
   "source": [
    "%%time\n",
    "detalle = pd.read_csv(\"detalle_setiembre2018.unl\", sep = \"|\", \n",
    "                      header = None, encoding = \"ISO-8859-1\")"
   ]
  },
  {
   "cell_type": "code",
   "execution_count": 11,
   "metadata": {},
   "outputs": [
    {
     "data": {
      "text/plain": [
       "(56348459, 9)"
      ]
     },
     "execution_count": 11,
     "metadata": {},
     "output_type": "execute_result"
    }
   ],
   "source": [
    "detalle.shape"
   ]
  },
  {
   "cell_type": "code",
   "execution_count": 13,
   "metadata": {
    "collapsed": true
   },
   "outputs": [],
   "source": [
    "detalle = detalle[[1,0,2,3,7]]\n",
    "detalle.columns = [\"COD_TIPOCOMP\", \"NUM_RUC\", \"NUM_SERIECPE\", \"NUM_CPE\", \"DES_DETITM\"]"
   ]
  },
  {
   "cell_type": "code",
   "execution_count": 14,
   "metadata": {},
   "outputs": [
    {
     "data": {
      "text/plain": [
       "<bound method NDFrame.head of           COD_TIPOCOMP      NUM_RUC NUM_SERIECPE  NUM_CPE  \\\n",
       "0                    1  20100096855         FN10     2344   \n",
       "1                    1  20601373875         FC01   711886   \n",
       "2                    1  20601373875         FC01   711886   \n",
       "3                    1  20601373875         FC01   711886   \n",
       "4                    1  20601373875         FC01   711884   \n",
       "5                    1  20601373875         FC01   711884   \n",
       "6                    1  20601373875         FC01   711884   \n",
       "7                    1  20601373875         FC01   711884   \n",
       "8                    1  20601373875         FC01   711884   \n",
       "9                    1  20601373875         FC01   711884   \n",
       "10                   1  20601373875         FC01   711884   \n",
       "11                   1  20601373875         FC01   711884   \n",
       "12                   1  20601373875         FC01   711884   \n",
       "13                   1  20601373875         FC01   711884   \n",
       "14                   1  20601373875         FC01   711884   \n",
       "15                   1  20601373875         FC01   711884   \n",
       "16                   1  20601373875         FC01   711884   \n",
       "17                   1  20601373875         FC01   711884   \n",
       "18                   1  20601373875         FC01   711884   \n",
       "19                   1  20100096855         FN10     2345   \n",
       "20                   1  20100096855         FN10     2345   \n",
       "21                   1  20100096855         FN10     2345   \n",
       "22                   1  20100096855         FN10     2345   \n",
       "23                   1  20100096855         FN10     2345   \n",
       "24                   1  20601373875         FC01   711887   \n",
       "25                   1  20601373875         FC01   711887   \n",
       "26                   1  20601373875         FC01   711887   \n",
       "27                   1  20601373875         FC01   711887   \n",
       "28                   1  20601373875         FC01   711887   \n",
       "29                   1  20601373875         FC01   711887   \n",
       "...                ...          ...          ...      ...   \n",
       "56348429             1  20476633932         F382      123   \n",
       "56348430             1  20476633932         F382      123   \n",
       "56348431             1  20476633932         F382      123   \n",
       "56348432             1  20476633932         F382      123   \n",
       "56348433             1  20476633932         F382      123   \n",
       "56348434             1  20476633932         F382      123   \n",
       "56348435             1  20476633932         F382      123   \n",
       "56348436             1  20476633932         F382      123   \n",
       "56348437             1  20476633932         F382      123   \n",
       "56348438             1  20476633932         F382      123   \n",
       "56348439             1  20476633932         F382      123   \n",
       "56348440             1  20476633932         F382      123   \n",
       "56348441             1  20476633932         F382      123   \n",
       "56348442             1  20476633932         F382      123   \n",
       "56348443             1  20418463644         F818       67   \n",
       "56348444             1  20418463644         F818       67   \n",
       "56348445             1  20418463644         F818       67   \n",
       "56348446             1  20418463644         F818       67   \n",
       "56348447             1  20418463644         F818       67   \n",
       "56348448             1  20508832134         F001     7020   \n",
       "56348449             1  20553191891         F001      251   \n",
       "56348450             1  20522646424         F001      131   \n",
       "56348451             1  20502794052         F025     5039   \n",
       "56348452             1  20119207640         F111    14133   \n",
       "56348453             1  20452262399         FP50    15507   \n",
       "56348454             1  20506151547         F058      703   \n",
       "56348455             1  20512090878         FB01     8356   \n",
       "56348456             1  20161800920         F002     9618   \n",
       "56348457             1  20553191891         F001      252   \n",
       "56348458             1  10224548279         FD01     5793   \n",
       "\n",
       "                                                 DES_DETITM  \n",
       "0         ISOCONAZOL 1 CREMA TUBO  20g Lote 8GC1695A Vto...  \n",
       "1                                   Sandy Mac 750ml 12 Gnrb  \n",
       "2                                      Vat 69 750ml 12 Gnrb  \n",
       "3                        Smirnoff Green Apple 750ml 12 Gnrb  \n",
       "4                                    H2Oh Limoneto 1.5L PET  \n",
       "5                                   H2Oh Limoneto 500ml PET  \n",
       "6                                 H2Oh Narancheto 500ml PET  \n",
       "7                    Evervess Tonica 237ML Lata24 Epo Marit  \n",
       "8                                 Pepsi Black 1500ml  6 Pet  \n",
       "9                                 Pepsi Black 355ml  15 Pet  \n",
       "10                                Pepsi Black 750ml  12 Pet  \n",
       "11                                   Seven Up 500ml  20 Pet  \n",
       "12                     3Pk Pepsi +Seven Up 3000Ml Pet + Asa  \n",
       "13                     GATORADE MANDARINA PE PET 750ML 12UN  \n",
       "14                       GATORADE TROPICAL PET 1250ML SH C6  \n",
       "15                   GATORADE TROPICAL PE PET750ML CAJA C12  \n",
       "16                   GATORADE TROPICAL PE PET500ML CAJA C12  \n",
       "17                    GATORADE MANDARINA PE PET500ML CJ C12  \n",
       "18                    GATORADE COOL BLUE PE PET500ML CJ C12  \n",
       "19        ALBENDAZOL 100mg5mL SUSP FRASCO  20mL Lote 8GC...  \n",
       "20        AZITROMICINA 200mg5mL PPS FRASCO  15mL Lote 8G...  \n",
       "21        ESOMEPRAZOL 40mg CAJA  10 COMPRIMIDOS Lote 8CL...  \n",
       "22        ESOMEPRAZOL 40mg CAJA  10 COMPRIMIDOS Lote 8CL...  \n",
       "23        FLAVOATO 200mg CAJA  20 COMPRIMIDOS Lote 8CL13...  \n",
       "24                     6 Pack G Active 500 Ml  6 Pet Callao  \n",
       "25                                  G Active Limon 500ml 12  \n",
       "26                          G Active Kiwi-Fresa 500ml 12 SC  \n",
       "27                     Frutaris Frutas Citricas 3000 Ml Pet  \n",
       "28                            GATORADE MI PET 500ML SI PACK  \n",
       "29                    GATORADE APPLE ICE PE PET500ML CJ C12  \n",
       "...                                                     ...  \n",
       "56348429                                   DEDITOS DE QUESO  \n",
       "56348430                                         BOLIQUESOS  \n",
       "56348431                                JARRA DE CHICHA 1 L  \n",
       "56348432                                 AGUA CON Y SIN GAS  \n",
       "56348433                                           OFERTA 1  \n",
       "56348434                                   DEDITOS DE QUESO  \n",
       "56348435                                         BOLIQUESOS  \n",
       "56348436                                JARRA DE CHICHA 1 L  \n",
       "56348437                                 AGUA CON Y SIN GAS  \n",
       "56348438                         AFTER OFFICE  2 PISCO SOUR  \n",
       "56348439                                           OFERTA 1  \n",
       "56348440                                           OFERTA 1  \n",
       "56348441                        14 POLLO + PAPAS + ENSALADA  \n",
       "56348442                        14 POLLO + PAPAS + ENSALADA  \n",
       "56348443                                 SOPA CRIOLLA CARTA  \n",
       "56348444                                           OFERTA 1  \n",
       "56348445                                   PORCION DE ARROZ  \n",
       "56348446                                     CREMA VOLTEADA  \n",
       "56348447                                 TORTA DE CHOCOLATE  \n",
       "56348448                                         DB5 DIESEL  \n",
       "56348449                                        ALOJAMIENTO  \n",
       "56348450                                           DELIVERY  \n",
       "56348451                                                 D2  \n",
       "56348452                                                GLP  \n",
       "56348453                                  DIESEL B5 S-50 UV  \n",
       "56348454                                                GLP  \n",
       "56348455                 DIESEL S50 PETROPERU UV (PETROLEO)  \n",
       "56348456                                                GLP  \n",
       "56348457                                        ALOJAMIENTO  \n",
       "56348458                                  DIESEL B5 S-50 UV  \n",
       "\n",
       "[56348459 rows x 5 columns]>"
      ]
     },
     "execution_count": 14,
     "metadata": {},
     "output_type": "execute_result"
    }
   ],
   "source": [
    "detalle.head"
   ]
  },
  {
   "cell_type": "code",
   "execution_count": 15,
   "metadata": {},
   "outputs": [
    {
     "name": "stderr",
     "output_type": "stream",
     "text": [
      "/data/anaconda3/lib/python3.6/site-packages/pandas/core/generic.py:4405: SettingWithCopyWarning: \n",
      "A value is trying to be set on a copy of a slice from a DataFrame.\n",
      "Try using .loc[row_indexer,col_indexer] = value instead\n",
      "\n",
      "See the caveats in the documentation: http://pandas.pydata.org/pandas-docs/stable/indexing.html#indexing-view-versus-copy\n",
      "  self[name] = value\n"
     ]
    },
    {
     "name": "stdout",
     "output_type": "stream",
     "text": [
      "CPU times: user 49.1 s, sys: 3.71 s, total: 52.8 s\n",
      "Wall time: 52.8 s\n"
     ]
    }
   ],
   "source": [
    "%%time\n",
    "detalle.DES_DETITM = detalle.DES_DETITM.str.strip()\n",
    "detalle.DES_DETITM = detalle.DES_DETITM.str.lower()"
   ]
  },
  {
   "cell_type": "code",
   "execution_count": 16,
   "metadata": {},
   "outputs": [
    {
     "name": "stdout",
     "output_type": "stream",
     "text": [
      "CPU times: user 8.14 s, sys: 2.63 s, total: 10.8 s\n",
      "Wall time: 10.7 s\n"
     ]
    },
    {
     "name": "stderr",
     "output_type": "stream",
     "text": [
      "/data/anaconda3/lib/python3.6/site-packages/ipykernel_launcher.py:1: SettingWithCopyWarning: \n",
      "A value is trying to be set on a copy of a slice from a DataFrame\n",
      "\n",
      "See the caveats in the documentation: http://pandas.pydata.org/pandas-docs/stable/indexing.html#indexing-view-versus-copy\n",
      "  \"\"\"Entry point for launching an IPython kernel.\n"
     ]
    }
   ],
   "source": [
    "%%time\n",
    "detalle.dropna(subset=['DES_DETITM'], inplace=True)"
   ]
  },
  {
   "cell_type": "code",
   "execution_count": 17,
   "metadata": {},
   "outputs": [
    {
     "name": "stderr",
     "output_type": "stream",
     "text": [
      "/data/anaconda3/lib/python3.6/site-packages/ipykernel_launcher.py:3: SettingWithCopyWarning: \n",
      "A value is trying to be set on a copy of a slice from a DataFrame.\n",
      "Try using .loc[row_indexer,col_indexer] = value instead\n",
      "\n",
      "See the caveats in the documentation: http://pandas.pydata.org/pandas-docs/stable/indexing.html#indexing-view-versus-copy\n",
      "  This is separate from the ipykernel package so we can avoid doing imports until\n",
      "/data/anaconda3/lib/python3.6/site-packages/ipykernel_launcher.py:4: SettingWithCopyWarning: \n",
      "A value is trying to be set on a copy of a slice from a DataFrame.\n",
      "Try using .loc[row_indexer,col_indexer] = value instead\n",
      "\n",
      "See the caveats in the documentation: http://pandas.pydata.org/pandas-docs/stable/indexing.html#indexing-view-versus-copy\n",
      "  after removing the cwd from sys.path.\n"
     ]
    },
    {
     "name": "stdout",
     "output_type": "stream",
     "text": [
      "CPU times: user 18min 10s, sys: 3.01 s, total: 18min 13s\n",
      "Wall time: 18min 13s\n"
     ]
    },
    {
     "name": "stderr",
     "output_type": "stream",
     "text": [
      "/data/anaconda3/lib/python3.6/site-packages/ipykernel_launcher.py:5: SettingWithCopyWarning: \n",
      "A value is trying to be set on a copy of a slice from a DataFrame.\n",
      "Try using .loc[row_indexer,col_indexer] = value instead\n",
      "\n",
      "See the caveats in the documentation: http://pandas.pydata.org/pandas-docs/stable/indexing.html#indexing-view-versus-copy\n",
      "  \"\"\"\n"
     ]
    }
   ],
   "source": [
    "%%time\n",
    "stop = stopwords.words('spanish')\n",
    "pat = r'\\b(?:{})\\b'.format('|'.join(stop))\n",
    "detalle['DES_DETITM'] = detalle['DES_DETITM'].str.replace(pat, '')\n",
    "detalle['DES_DETITM'] = detalle['DES_DETITM'].str.replace(r'\\s+', ' ')\n",
    "detalle['DES_DETITM'] = detalle['DES_DETITM'].str.replace(r'[^\\w\\s]', '')\n",
    "# detalle.DES_DETITM = detalle['DES_DETITM'].swifter.apply(lambda x: re.sub(r'[^\\w\\s]','',str(x)))"
   ]
  },
  {
   "cell_type": "code",
   "execution_count": 18,
   "metadata": {},
   "outputs": [
    {
     "name": "stderr",
     "output_type": "stream",
     "text": [
      "/data/anaconda3/lib/python3.6/site-packages/pandas/core/generic.py:4405: SettingWithCopyWarning: \n",
      "A value is trying to be set on a copy of a slice from a DataFrame.\n",
      "Try using .loc[row_indexer,col_indexer] = value instead\n",
      "\n",
      "See the caveats in the documentation: http://pandas.pydata.org/pandas-docs/stable/indexing.html#indexing-view-versus-copy\n",
      "  self[name] = value\n"
     ]
    },
    {
     "name": "stdout",
     "output_type": "stream",
     "text": [
      "CPU times: user 3min 11s, sys: 229 ms, total: 3min 12s\n",
      "Wall time: 3min 12s\n"
     ]
    }
   ],
   "source": [
    "%%time\n",
    "detalle.DES_DETITM = detalle.DES_DETITM.str.replace('\\d+', '')\n",
    "detalle.DES_DETITM = detalle.DES_DETITM.str.strip()"
   ]
  },
  {
   "cell_type": "code",
   "execution_count": 19,
   "metadata": {},
   "outputs": [
    {
     "name": "stdout",
     "output_type": "stream",
     "text": [
      "CPU times: user 3min 10s, sys: 14.2 s, total: 3min 24s\n",
      "Wall time: 3min 23s\n"
     ]
    },
    {
     "name": "stderr",
     "output_type": "stream",
     "text": [
      "/data/anaconda3/lib/python3.6/site-packages/ipykernel_launcher.py:1: SettingWithCopyWarning: \n",
      "A value is trying to be set on a copy of a slice from a DataFrame.\n",
      "Try using .loc[row_indexer,col_indexer] = value instead\n",
      "\n",
      "See the caveats in the documentation: http://pandas.pydata.org/pandas-docs/stable/indexing.html#indexing-view-versus-copy\n",
      "  \"\"\"Entry point for launching an IPython kernel.\n"
     ]
    }
   ],
   "source": [
    "%%time\n",
    "detalle['llave'] = detalle['COD_TIPOCOMP'].astype(str) + \"_\" + detalle['NUM_RUC'].astype(str) + \"_\" + detalle['NUM_SERIECPE'] + \"_\" + detalle['NUM_CPE'].astype(str)"
   ]
  },
  {
   "cell_type": "code",
   "execution_count": 20,
   "metadata": {},
   "outputs": [
    {
     "data": {
      "text/plain": [
       "28"
      ]
     },
     "execution_count": 20,
     "metadata": {},
     "output_type": "execute_result"
    }
   ],
   "source": [
    "import gc\n",
    "del detalle['COD_TIPOCOMP'] \n",
    "del detalle['NUM_RUC'] \n",
    "del detalle['NUM_SERIECPE'] \n",
    "del detalle['NUM_CPE'] \n",
    "gc.collect()"
   ]
  },
  {
   "cell_type": "code",
   "execution_count": null,
   "metadata": {
    "collapsed": true
   },
   "outputs": [],
   "source": [
    "# Emisores de riesgo"
   ]
  },
  {
   "cell_type": "code",
   "execution_count": 3,
   "metadata": {},
   "outputs": [],
   "source": [
    "FichaEmisor_CIIU = pd.read_csv(\"FichaEmisor_CIIU.csv\")"
   ]
  },
  {
   "cell_type": "code",
   "execution_count": 17,
   "metadata": {},
   "outputs": [
    {
     "data": {
      "text/plain": [
       "703995"
      ]
     },
     "execution_count": 17,
     "metadata": {},
     "output_type": "execute_result"
    }
   ],
   "source": [
    "FichaEmisor_CIIU[\"ruc\"].unique().size"
   ]
  },
  {
   "cell_type": "code",
   "execution_count": 18,
   "metadata": {},
   "outputs": [
    {
     "data": {
      "text/html": [
       "<div>\n",
       "<style scoped>\n",
       "    .dataframe tbody tr th:only-of-type {\n",
       "        vertical-align: middle;\n",
       "    }\n",
       "\n",
       "    .dataframe tbody tr th {\n",
       "        vertical-align: top;\n",
       "    }\n",
       "\n",
       "    .dataframe thead th {\n",
       "        text-align: right;\n",
       "    }\n",
       "</style>\n",
       "<table border=\"1\" class=\"dataframe\">\n",
       "  <thead>\n",
       "    <tr style=\"text-align: right;\">\n",
       "      <th></th>\n",
       "      <th>nom_comercial</th>\n",
       "      <th>cod_act_princ</th>\n",
       "      <th>act_principal</th>\n",
       "      <th>ruc</th>\n",
       "      <th>razon_social</th>\n",
       "      <th>comercio_ext</th>\n",
       "      <th>facturacion</th>\n",
       "      <th>condicion</th>\n",
       "      <th>estado</th>\n",
       "      <th>tipo_emp</th>\n",
       "      <th>tamano</th>\n",
       "      <th>cond_domicilio</th>\n",
       "      <th>ubigeo</th>\n",
       "      <th>act_secun1</th>\n",
       "      <th>act_secun2</th>\n",
       "      <th>cant_act_1</th>\n",
       "      <th>cant_act_2</th>\n",
       "      <th>CATEGO_OBJETIVO</th>\n",
       "      <th>Actividad_Economica</th>\n",
       "    </tr>\n",
       "  </thead>\n",
       "  <tbody>\n",
       "    <tr>\n",
       "      <th>0</th>\n",
       "      <td>HOSTAL LAS GUINDAS</td>\n",
       "      <td>55104</td>\n",
       "      <td>HOTELES, CAMPAMENTOS Y OTROS.</td>\n",
       "      <td>10066069538</td>\n",
       "      <td>HUAMAN LOPEZ DE OBISPO ZOYLA BEATRIZ          ...</td>\n",
       "      <td>SIN ACTIVIDAD</td>\n",
       "      <td>MANUAL</td>\n",
       "      <td>HABIDO</td>\n",
       "      <td>BAJA DEFINITIVA</td>\n",
       "      <td>PERSONA NATURAL CON NEGOCIO</td>\n",
       "      <td>RESTO</td>\n",
       "      <td>PROPIO</td>\n",
       "      <td>150111</td>\n",
       "      <td>NaN</td>\n",
       "      <td>NaN</td>\n",
       "      <td>0</td>\n",
       "      <td>0</td>\n",
       "      <td>1</td>\n",
       "      <td>HOTELES, CAMPAMENTOS Y OTROS.</td>\n",
       "    </tr>\n",
       "    <tr>\n",
       "      <th>1</th>\n",
       "      <td>-</td>\n",
       "      <td>85124</td>\n",
       "      <td>ACTIVIDADES DE MEDICOS Y ODONTOLOGO</td>\n",
       "      <td>10066053445</td>\n",
       "      <td>ARISTONDO BARRETO CESAR AUGUSTO               ...</td>\n",
       "      <td>SIN ACTIVIDAD</td>\n",
       "      <td>MANUAL</td>\n",
       "      <td>HABIDO</td>\n",
       "      <td>ACTIVO</td>\n",
       "      <td>PERSONA NATURAL SIN NEGOCIO</td>\n",
       "      <td>RESTO</td>\n",
       "      <td>PROPIO</td>\n",
       "      <td>150101</td>\n",
       "      <td>NaN</td>\n",
       "      <td>NaN</td>\n",
       "      <td>0</td>\n",
       "      <td>0</td>\n",
       "      <td>1</td>\n",
       "      <td>ACTIVIDADES DE MEDICOS Y ODONTOLOGO</td>\n",
       "    </tr>\n",
       "    <tr>\n",
       "      <th>2</th>\n",
       "      <td>-</td>\n",
       "      <td>55205</td>\n",
       "      <td>RESTAURANTES, BARES Y CANTINAS.</td>\n",
       "      <td>10066053968</td>\n",
       "      <td>MALDONADO CHUQUIHUANGA ADAGUIZA               ...</td>\n",
       "      <td>SIN ACTIVIDAD</td>\n",
       "      <td>MANUAL</td>\n",
       "      <td>HABIDO</td>\n",
       "      <td>BAJA DEFINITIVA</td>\n",
       "      <td>PERSONA NATURAL CON NEGOCIO</td>\n",
       "      <td>RESTO</td>\n",
       "      <td>OTROS</td>\n",
       "      <td>150132</td>\n",
       "      <td>NaN</td>\n",
       "      <td>NaN</td>\n",
       "      <td>0</td>\n",
       "      <td>0</td>\n",
       "      <td>1</td>\n",
       "      <td>RESTAURANTES, BARES Y CANTINAS.</td>\n",
       "    </tr>\n",
       "    <tr>\n",
       "      <th>3</th>\n",
       "      <td>-</td>\n",
       "      <td>55205</td>\n",
       "      <td>RESTAURANTES, BARES Y CANTINAS.</td>\n",
       "      <td>10066069481</td>\n",
       "      <td>CAAMAÑO MARATVECH DE CASTELLARES BILLIE       ...</td>\n",
       "      <td>SIN ACTIVIDAD</td>\n",
       "      <td>MANUAL</td>\n",
       "      <td>NO HALLADO NO EXISTE DOMICILIO</td>\n",
       "      <td>BAJA DE OFICIO</td>\n",
       "      <td>PERSONA NATURAL CON NEGOCIO</td>\n",
       "      <td>RESTO</td>\n",
       "      <td></td>\n",
       "      <td>150130</td>\n",
       "      <td>NaN</td>\n",
       "      <td>NaN</td>\n",
       "      <td>0</td>\n",
       "      <td>0</td>\n",
       "      <td>1</td>\n",
       "      <td>RESTAURANTES, BARES Y CANTINAS.</td>\n",
       "    </tr>\n",
       "    <tr>\n",
       "      <th>4</th>\n",
       "      <td>RESTAURANTE HUANCAINO</td>\n",
       "      <td>55205</td>\n",
       "      <td>RESTAURANTES, BARES Y CANTINAS.</td>\n",
       "      <td>10066053721</td>\n",
       "      <td>POMA SAYAS DE BANCAYAN DOMINGA                ...</td>\n",
       "      <td>SIN ACTIVIDAD</td>\n",
       "      <td>MANUAL</td>\n",
       "      <td>HABIDO</td>\n",
       "      <td>ACTIVO</td>\n",
       "      <td>PERSONA NATURAL CON NEGOCIO</td>\n",
       "      <td>RESTO</td>\n",
       "      <td>PROPIO</td>\n",
       "      <td>150103</td>\n",
       "      <td>NaN</td>\n",
       "      <td>NaN</td>\n",
       "      <td>0</td>\n",
       "      <td>0</td>\n",
       "      <td>1</td>\n",
       "      <td>RESTAURANTES, BARES Y CANTINAS.</td>\n",
       "    </tr>\n",
       "  </tbody>\n",
       "</table>\n",
       "</div>"
      ],
      "text/plain": [
       "                    nom_comercial  cod_act_princ  \\\n",
       "0  HOSTAL LAS GUINDAS                      55104   \n",
       "1  -                                       85124   \n",
       "2  -                                       55205   \n",
       "3  -                                       55205   \n",
       "4  RESTAURANTE HUANCAINO                   55205   \n",
       "\n",
       "                         act_principal          ruc  \\\n",
       "0        HOTELES, CAMPAMENTOS Y OTROS.  10066069538   \n",
       "1  ACTIVIDADES DE MEDICOS Y ODONTOLOGO  10066053445   \n",
       "2      RESTAURANTES, BARES Y CANTINAS.  10066053968   \n",
       "3      RESTAURANTES, BARES Y CANTINAS.  10066069481   \n",
       "4      RESTAURANTES, BARES Y CANTINAS.  10066053721   \n",
       "\n",
       "                                        razon_social   comercio_ext  \\\n",
       "0  HUAMAN LOPEZ DE OBISPO ZOYLA BEATRIZ          ...  SIN ACTIVIDAD   \n",
       "1  ARISTONDO BARRETO CESAR AUGUSTO               ...  SIN ACTIVIDAD   \n",
       "2  MALDONADO CHUQUIHUANGA ADAGUIZA               ...  SIN ACTIVIDAD   \n",
       "3  CAAMAÑO MARATVECH DE CASTELLARES BILLIE       ...  SIN ACTIVIDAD   \n",
       "4  POMA SAYAS DE BANCAYAN DOMINGA                ...  SIN ACTIVIDAD   \n",
       "\n",
       "  facturacion                       condicion           estado  \\\n",
       "0      MANUAL                          HABIDO  BAJA DEFINITIVA   \n",
       "1      MANUAL                          HABIDO           ACTIVO   \n",
       "2      MANUAL                          HABIDO  BAJA DEFINITIVA   \n",
       "3      MANUAL  NO HALLADO NO EXISTE DOMICILIO   BAJA DE OFICIO   \n",
       "4      MANUAL                          HABIDO           ACTIVO   \n",
       "\n",
       "                      tipo_emp tamano cond_domicilio  ubigeo act_secun1  \\\n",
       "0  PERSONA NATURAL CON NEGOCIO  RESTO         PROPIO  150111        NaN   \n",
       "1  PERSONA NATURAL SIN NEGOCIO  RESTO         PROPIO  150101        NaN   \n",
       "2  PERSONA NATURAL CON NEGOCIO  RESTO          OTROS  150132        NaN   \n",
       "3  PERSONA NATURAL CON NEGOCIO  RESTO                 150130        NaN   \n",
       "4  PERSONA NATURAL CON NEGOCIO  RESTO         PROPIO  150103        NaN   \n",
       "\n",
       "  act_secun2  cant_act_1  cant_act_2  CATEGO_OBJETIVO  \\\n",
       "0        NaN           0           0                1   \n",
       "1        NaN           0           0                1   \n",
       "2        NaN           0           0                1   \n",
       "3        NaN           0           0                1   \n",
       "4        NaN           0           0                1   \n",
       "\n",
       "                   Actividad_Economica  \n",
       "0        HOTELES, CAMPAMENTOS Y OTROS.  \n",
       "1  ACTIVIDADES DE MEDICOS Y ODONTOLOGO  \n",
       "2      RESTAURANTES, BARES Y CANTINAS.  \n",
       "3      RESTAURANTES, BARES Y CANTINAS.  \n",
       "4      RESTAURANTES, BARES Y CANTINAS.  "
      ]
     },
     "execution_count": 18,
     "metadata": {},
     "output_type": "execute_result"
    }
   ],
   "source": [
    "FichaEmisor_CIIU.head()"
   ]
  },
  {
   "cell_type": "code",
   "execution_count": 22,
   "metadata": {},
   "outputs": [
    {
     "name": "stderr",
     "output_type": "stream",
     "text": [
      "<string>:2: DtypeWarning: Columns (4) have mixed types. Specify dtype option on import or set low_memory=False.\n"
     ]
    },
    {
     "name": "stdout",
     "output_type": "stream",
     "text": [
      "CPU times: user 39.3 s, sys: 3.18 s, total: 42.5 s\n",
      "Wall time: 42.5 s\n"
     ]
    }
   ],
   "source": [
    "%%time\n",
    "cabecera = pd.read_csv(\"cabcpe_setiembre2018.unl\", sep = \"|\", header = None, encoding = \"ISO-8859-1\", \n",
    "                       error_bad_lines=False)\n"
   ]
  },
  {
   "cell_type": "code",
   "execution_count": 23,
   "metadata": {},
   "outputs": [
    {
     "data": {
      "text/plain": [
       "<bound method NDFrame.head of                    0   1     2        3  4  5                 6    7   \\\n",
       "0         20535881741   1  F001      169  1  6  10035731071       PEN   \n",
       "1         20550372640   1  F603   990664  1  6  20110217278       PEN   \n",
       "2         20101087647   1  F031    90287  1  6  20548080461       PEN   \n",
       "3         20520929658   1  F061   127047  1  6  10475165255       PEN   \n",
       "4         20100007348   1  F005    19535  1  6  20104582428       PEN   \n",
       "5         20520929658   1  F073   188458  1  6  20481224005       PEN   \n",
       "6         20520929658   1  F048   814653  1  6  20512528458       PEN   \n",
       "7         20515774182   1  F059      491  1  6  20545271525       PEN   \n",
       "8         20511914125   1  F133    13557  1  6  20131644524       PEN   \n",
       "9         20550372640   1  F226   196333  1  6  20100105943       PEN   \n",
       "10        20602284531   1  F003      270  1  6  20601111200       PEN   \n",
       "11        20525873367   1  F008     2729  1  6  20563790882       PEN   \n",
       "12        20337889167   1  F003    14450  1  6  20431115825       PEN   \n",
       "13        20433661495   1  F117   281416  1  6  20305540278       PEN   \n",
       "14        20505377142   1  F231  1380036  1  6  20600045521       PEN   \n",
       "15        20545137471   1  F001       17  1  6  20329829309       PEN   \n",
       "16        20555710667   1  F001       64  1  6  20469962246       USD   \n",
       "17        20550372640   1  F809   739556  1  6  20511108200       PEN   \n",
       "18        20522547957   1  F401   202142  1  6  20479741353       PEN   \n",
       "19        20552350589   1  F005      336  1  6  20600101693       PEN   \n",
       "20        20505303459   1  F001     7514  1  6  10407773859       PEN   \n",
       "21        20481701709   1  F002    11781  1  6  20431115825       PEN   \n",
       "22        20100432553   1  F001      146  1  6  20162368452       PEN   \n",
       "23        20159475191   1  F020    13768  1  6  20513148322       PEN   \n",
       "24        20212331377   1  F106   226148  1  6  10076206461       USD   \n",
       "25        20502445805   1  F021    27217  1  6  10408606352       PEN   \n",
       "26        20260100808   1  F001     4890  1  6  20537569566       PEN   \n",
       "27        20101216391   1  F001      542  1  6  20547416776       PEN   \n",
       "28        20101560504   1  F001    29796  1  6  20101312942       USD   \n",
       "29        20100448123   1  F004     1595  1  6  20505670443       USD   \n",
       "...               ...  ..   ...      ... .. ..               ...  ...   \n",
       "20082120  20452262399   1  FP01    16903  1  6  20494242304       PEN   \n",
       "20082121  20498672478   1  FF09    63460  1  6  10441661351       PEN   \n",
       "20082122  20428254687   1  F102    47378  1  6  20392836200       PEN   \n",
       "20082123  20428254687   1  F155    13142  1  6  20601279585       PEN   \n",
       "20082124  20601356521   1  F001     1134  1  6  20600583701       PEN   \n",
       "20082125  20512081372   1  FK06   100728  1  6  10485051096       PEN   \n",
       "20082126  20117357113   1  FT04     3093  1  6  20556594601       PEN   \n",
       "20082127  20418463644   1  F867       60  1  6  20513428015       PEN   \n",
       "20082128  20263977158   1  F002     7297  1  6  20516700948       PEN   \n",
       "20082129  20512081372   1  FK08    69324  1  6  20564016285       PEN   \n",
       "20082130  20428254687   1  F101    43386  1  6  20392836200       PEN   \n",
       "20082131  20476633932   1  F378      303  1  6  20405479592       PEN   \n",
       "20082132  20512090878   1  FB01     8862  1  6  20601038910       PEN   \n",
       "20082133  20516903113   1  F012     3400  1  6  20477342826       PEN   \n",
       "20082134  20428254687   1  F122    11261  1  6  20511985065       PEN   \n",
       "20082135  20476633932   1  F378      304  1  6  20405479592       PEN   \n",
       "20082136  20119207640   1  F212    25113  1  6  20532620318       PEN   \n",
       "20082137  20525801293   1  FN01     8914  1  6  20602195211       PEN   \n",
       "20082138  20119207640   1  F211    15823  1  6  20532845158       PEN   \n",
       "20082139  20502794052   1  F035     1697  1  6  20552520689       PEN   \n",
       "20082140  20506151547   1  F086    10902  1  6  20602412327       PEN   \n",
       "20082141  20512081372   1  FK01    95742  1  6  10081372492       PEN   \n",
       "20082142  20315220301   1  FP04     4046  1  6  10481089781       PEN   \n",
       "20082143  20418463644   1  F836      407  1  6  20492550044       PEN   \n",
       "20082144  20512090878   1  FB01     8863  1  6  20545256054       PEN   \n",
       "20082145  20512081372   1  FK01    95743  1  6  10101319461       PEN   \n",
       "20082146  20498672478   1  FF09    63461  1  6  10427871598       PEN   \n",
       "20082147  20432168213   1  F730      107  1  6  20600583761       PEN   \n",
       "20082148  20601356521   1  F001     1135  1  6  20100816378       PEN   \n",
       "20082149  20398568088   1  FP01    24998  1  6  20530201351       PEN   \n",
       "\n",
       "               8                    9       10       11  12  \n",
       "0          849.00  2018-09-04 00:00:00  129.51   719.49 NaN  \n",
       "1            5.00  2018-09-04 00:00:00    0.76     4.24 NaN  \n",
       "2            8.90  2018-09-04 00:00:00    1.33     7.39 NaN  \n",
       "3           95.10  2018-09-04 00:00:00   14.51    80.59 NaN  \n",
       "4          751.40  2018-09-04 00:00:00  114.62   636.78 NaN  \n",
       "5           10.20  2018-09-04 00:00:00    1.56     8.64 NaN  \n",
       "6           46.60  2018-09-04 00:00:00    7.11    39.49 NaN  \n",
       "7           31.90  2018-09-04 00:00:00    4.87    27.03 NaN  \n",
       "8          129.80  2018-09-04 00:00:00   19.80   110.00 NaN  \n",
       "9            5.00  2018-09-04 00:00:00    0.76     4.24 NaN  \n",
       "10          20.00  2018-09-04 00:00:00    3.05    16.95 NaN  \n",
       "11          50.00  2018-09-04 00:00:00    7.63    42.37 NaN  \n",
       "12         232.46  2018-09-04 00:00:00   35.46   197.00 NaN  \n",
       "13           7.17  2018-09-04 00:00:00    1.09     6.08 NaN  \n",
       "14          23.10  2018-09-04 00:00:00    3.52    19.58 NaN  \n",
       "15        2301.00  2018-09-04 00:00:00  351.00  1950.00 NaN  \n",
       "16        2163.65  2018-09-04 00:00:00  330.05  1833.60 NaN  \n",
       "17          13.50  2018-09-04 00:00:00    2.06    11.44 NaN  \n",
       "18          23.20  2018-09-04 00:00:00    3.54    19.66 NaN  \n",
       "19           2.12  2018-09-04 00:00:00    0.32     1.80 NaN  \n",
       "20          51.50  2018-09-04 00:00:00    7.86    43.64 NaN  \n",
       "21         267.43  2018-09-04 00:00:00   40.79   226.64 NaN  \n",
       "22          70.00  2018-09-04 00:00:00    9.77    60.23 NaN  \n",
       "23         592.31  2018-09-04 00:00:00   90.35   501.96 NaN  \n",
       "24          24.19  2018-09-04 00:00:00    3.69    20.50 NaN  \n",
       "25         393.41  2018-09-04 00:00:00   60.01   333.40 NaN  \n",
       "26          53.70  2018-09-04 00:00:00    0.00    53.70 NaN  \n",
       "27         984.12  2018-09-04 00:00:00  150.12   834.00 NaN  \n",
       "28         423.16  2018-09-04 00:00:00   64.55   358.61 NaN  \n",
       "29         972.91  2018-09-04 00:00:00  148.41   824.50 NaN  \n",
       "...           ...                  ...     ...      ...  ..  \n",
       "20082120   413.01  2018-09-19 23:54:43   63.00   350.01 NaN  \n",
       "20082121  2500.00  2018-09-19 23:54:47  381.36  2118.64 NaN  \n",
       "20082122    81.16  2018-09-19 23:54:54   12.38    68.78 NaN  \n",
       "20082123    99.00  2018-09-19 23:55:00   15.10    83.90 NaN  \n",
       "20082124    72.00  2018-09-19 23:55:11   10.98    61.02 NaN  \n",
       "20082125    74.99  2018-09-19 23:55:12   11.44    63.55 NaN  \n",
       "20082126   377.95  2018-09-19 23:55:14   57.65   320.30 NaN  \n",
       "20082127    11.90  2018-09-19 23:55:51    0.89     9.82 NaN  \n",
       "20082128    70.00  2018-09-19 23:55:57   10.68    59.32 NaN  \n",
       "20082129   800.00  2018-09-19 23:56:38  122.03   677.97 NaN  \n",
       "20082130    50.50  2018-09-19 23:56:46    7.70    42.80 NaN  \n",
       "20082131    21.89  2018-09-19 23:56:48    3.31    18.40 NaN  \n",
       "20082132    89.77  2018-09-19 23:56:58   13.69    76.08 NaN  \n",
       "20082133    37.10  2018-09-19 23:57:10    5.66    31.44 NaN  \n",
       "20082134    80.00  2018-09-19 23:57:13   12.20    67.80 NaN  \n",
       "20082135    21.89  2018-09-19 23:57:22    3.31    18.40 NaN  \n",
       "20082136   100.00  2018-09-19 23:57:41   15.25    84.75 NaN  \n",
       "20082137    20.00  2018-09-19 23:57:52    3.05    16.95 NaN  \n",
       "20082138    69.00  2018-09-19 23:58:01   10.53    58.47 NaN  \n",
       "20082139    32.03  2018-09-19 23:58:04    4.89    27.14 NaN  \n",
       "20082140    47.52  2018-09-19 23:58:20    7.25    40.27 NaN  \n",
       "20082141    94.75  2018-09-19 23:58:57   14.45    80.30 NaN  \n",
       "20082142    98.07  2018-09-19 23:59:01   14.96    83.11 NaN  \n",
       "20082143    35.70  2018-09-19 23:59:06    5.40    30.00 NaN  \n",
       "20082144    80.00  2018-09-19 23:59:06   12.20    67.80 NaN  \n",
       "20082145   176.00  2018-09-19 23:59:09   26.85   149.15 NaN  \n",
       "20082146  1739.00  2018-09-19 23:59:16  265.27  1473.73 NaN  \n",
       "20082147   146.70  2018-09-19 23:59:18   22.19   123.28 NaN  \n",
       "20082148    85.00  2018-09-19 23:59:26   12.97    72.03 NaN  \n",
       "20082149   100.00  2018-09-19 23:59:37   15.25    84.75 NaN  \n",
       "\n",
       "[20082150 rows x 13 columns]>"
      ]
     },
     "execution_count": 23,
     "metadata": {},
     "output_type": "execute_result"
    }
   ],
   "source": [
    "cabecera.head"
   ]
  },
  {
   "cell_type": "code",
   "execution_count": 24,
   "metadata": {
    "collapsed": true
   },
   "outputs": [],
   "source": [
    "cabecera = cabecera[[1,0,2,3,6,7,11,10,9]]\n",
    "cabecera.columns = [\"COD_TIPOCOMP\",\"NUM_RUC\",\"NUM_SERIECPE\",\"NUM_CPE\", \n",
    "                    \"NUM_DOCIDENTI\", \"COD_MON\", \"MTO_IMPCPE\",\"MTO_IGVCPE\",\"FEC_EMICPE\"]"
   ]
  },
  {
   "cell_type": "code",
   "execution_count": 25,
   "metadata": {},
   "outputs": [
    {
     "data": {
      "text/plain": [
       "(20082150, 9)"
      ]
     },
     "execution_count": 25,
     "metadata": {},
     "output_type": "execute_result"
    }
   ],
   "source": [
    "cabecera.shape"
   ]
  },
  {
   "cell_type": "code",
   "execution_count": 26,
   "metadata": {
    "collapsed": true
   },
   "outputs": [],
   "source": [
    "MD_Factura = pd.merge(cabecera,FichaEmisor_CIIU[['ruc', 'cod_act_princ', 'act_principal','act_secun1',\n",
    "                                                 'act_secun2', 'nom_comercial', 'razon_social', \n",
    "                                                 'condicion', 'estado', 'tipo_emp', 'tamano', 'cond_domicilio', \n",
    "                                                 'ubigeo', 'CATEGO_OBJETIVO', 'Actividad_Economica']], \n",
    "                      how='inner', left_on='NUM_RUC', right_on='ruc')"
   ]
  },
  {
   "cell_type": "code",
   "execution_count": 27,
   "metadata": {},
   "outputs": [
    {
     "data": {
      "text/plain": [
       "<bound method NDFrame.head of          COD_TIPOCOMP      NUM_RUC NUM_SERIECPE  NUM_CPE     NUM_DOCIDENTI  \\\n",
       "0                   1  20101087647         F031    90287  20548080461        \n",
       "1                   1  20101087647         F297    19886  20108221578        \n",
       "2                   1  20101087647         F209    77334  20603037058        \n",
       "3                   1  20101087647         F305    31352  10293526279        \n",
       "4                   1  20101087647         F078    15475  20600754549        \n",
       "5                   1  20101087647         F034    25982  20553824924        \n",
       "6                   1  20101087647         F031    90288  20567129331        \n",
       "7                   1  20101087647         F030    38159  20451770501        \n",
       "8                   1  20101087647         F017    33045  20502073401        \n",
       "9                   1  20101087647         F285    20686  20555964766        \n",
       "10                  1  20101087647         F030    38160  20517207331        \n",
       "11                  1  20101087647         F281    62512  20547975325        \n",
       "12                  1  20101087647         F008    37091  20470785391        \n",
       "13                  1  20101087647         F331    18705  20513482656        \n",
       "14                  1  20101087647         F257     1921  20552292520        \n",
       "15                  1  20101087647         F100    37759  20492568920        \n",
       "16                  1  20101087647         F257     1922  20603343914        \n",
       "17                  1  20101087647         F156    32996  20600128842        \n",
       "18                  1  20101087647         F152    30704  20524789443        \n",
       "19                  1  20101087647         F279    16643  20601303249        \n",
       "20                  1  20101087647         F309    18149  20507338748        \n",
       "21                  1  20101087647         F057    45347  20492251217        \n",
       "22                  1  20101087647         F030    38163  20543203701        \n",
       "23                  1  20101087647         F287    33610  20545623651        \n",
       "24                  1  20101087647         F339    31429  20423561409        \n",
       "25                  1  20101087647         F034    25967  20126239689        \n",
       "26                  1  20101087647         F034    25968  20205605500        \n",
       "27                  1  20101087647         F297    19887  20214662800        \n",
       "28                  1  20101087647         F057    45331  20390542641        \n",
       "29                  1  20101087647         F100    37731  20467534026        \n",
       "...               ...          ...          ...      ...               ...   \n",
       "1918560             1  20327591062         F001      224  20100192064        \n",
       "1918561             1  20327591062         F001      226  20498459952        \n",
       "1918562             1  20327591062         F001      227  20411519784        \n",
       "1918563             1  20327591062         F001      223  20100192064        \n",
       "1918564             1  20522643247         F001      109  20126339632        \n",
       "1918565             1  20522643247         F001      110  20513917997        \n",
       "1918566             1  20522643247         F001      111  20126339632        \n",
       "1918567             1  20522643247         F001      112  20126339632        \n",
       "1918568             1  20600845587         F001       16  20601375703        \n",
       "1918569             1  20562634119         F001      134  20548604479        \n",
       "1918570             1  20600224281         F001        2  594792302          \n",
       "1918571             1  20600224281         F001        3  20602731562        \n",
       "1918572             1  20600224281         F001       17  20602731562        \n",
       "1918573             1  20600224281         F001       18  20602731562        \n",
       "1918574             1  20600224281         F001       19  20602731562        \n",
       "1918575             1  20600224281         F001       20  20602731562        \n",
       "1918576             1  20600224281         F001       21  20602731562        \n",
       "1918577             1  20600224281         F001       22  20602731562        \n",
       "1918578             1  20600224281         F001       23  20602731562        \n",
       "1918579             1  20600224281         F001        1  459159368          \n",
       "1918580             1  20600224281         F001       11  20602731562        \n",
       "1918581             1  20600224281         F001       12  20602731562        \n",
       "1918582             1  20600224281         F001       13  20602731562        \n",
       "1918583             1  20600224281         F001       14  20602731562        \n",
       "1918584             1  20600224281         F001       15  20602731562        \n",
       "1918585             1  20600224281         F001       16  20537027674        \n",
       "1918586             1  20546017860         F001        5  20543217752        \n",
       "1918587             1  20546017860         F001        6  20514342777        \n",
       "1918588             1  20565666194         F001       28  20109072177        \n",
       "1918589             1  20301947641         F001        6  10438279861        \n",
       "\n",
       "        COD_MON  MTO_IMPCPE  MTO_IGVCPE           FEC_EMICPE          ruc  \\\n",
       "0           PEN        7.39        1.33  2018-09-04 00:00:00  20101087647   \n",
       "1           PEN       29.80        5.36  2018-09-02 00:00:00  20101087647   \n",
       "2           PEN       19.41        3.49  2018-09-02 00:00:00  20101087647   \n",
       "3           PEN       24.81        4.47  2018-09-02 00:00:00  20101087647   \n",
       "4           PEN       10.70        1.93  2018-09-02 00:00:00  20101087647   \n",
       "5           PEN       54.53        9.81  2018-09-04 00:00:00  20101087647   \n",
       "6           PEN      155.25       27.95  2018-09-04 00:00:00  20101087647   \n",
       "7           PEN       65.73       11.83  2018-09-04 00:00:00  20101087647   \n",
       "8           PEN       37.18        6.69  2018-09-04 00:00:00  20101087647   \n",
       "9           PEN       37.09        6.68  2018-09-04 00:00:00  20101087647   \n",
       "10          PEN       47.04        8.47  2018-09-04 00:00:00  20101087647   \n",
       "11          PEN       33.11        5.96  2018-09-04 00:00:00  20101087647   \n",
       "12          PEN       13.19        2.38  2018-09-04 00:00:00  20101087647   \n",
       "13          PEN       61.16       11.01  2018-09-04 00:00:00  20101087647   \n",
       "14          PEN       20.66        3.72  2018-09-04 00:00:00  20101087647   \n",
       "15          PEN        2.91        0.52  2018-09-04 00:00:00  20101087647   \n",
       "16          PEN       38.75        6.98  2018-09-04 00:00:00  20101087647   \n",
       "17          PEN       25.64        4.62  2018-09-04 00:00:00  20101087647   \n",
       "18          PEN       27.29        4.91  2018-09-04 00:00:00  20101087647   \n",
       "19          PEN       23.07        4.15  2018-09-04 00:00:00  20101087647   \n",
       "20          PEN       13.19        2.38  2018-09-04 00:00:00  20101087647   \n",
       "21          PEN       32.61        5.87  2018-09-04 00:00:00  20101087647   \n",
       "22          PEN       29.71        5.35  2018-09-04 00:00:00  20101087647   \n",
       "23          PEN       61.91       11.14  2018-09-02 00:00:00  20101087647   \n",
       "24          PEN       40.50        7.29  2018-09-02 00:00:00  20101087647   \n",
       "25          PEN       24.81        4.47  2018-09-02 00:00:00  20101087647   \n",
       "26          PEN       14.86        2.67  2018-09-02 00:00:00  20101087647   \n",
       "27          PEN       27.64        4.97  2018-09-02 00:00:00  20101087647   \n",
       "28          PEN       49.38        8.89  2018-09-02 00:00:00  20101087647   \n",
       "29          PEN       14.86        2.67  2018-09-02 00:00:00  20101087647   \n",
       "...         ...         ...         ...                  ...          ...   \n",
       "1918560     PEN    31278.00     5630.04  2018-09-17 17:54:48  20327591062   \n",
       "1918561     PEN      186.44       33.56  2018-09-25 13:05:37  20327591062   \n",
       "1918562     PEN      186.44       33.56  2018-09-25 13:12:17  20327591062   \n",
       "1918563     PEN    38200.00     6876.00  2018-09-12 15:00:46  20327591062   \n",
       "1918564     USD       12.00        2.16  2018-09-06 10:44:27  20522643247   \n",
       "1918565     USD       19.75        3.55  2018-09-11 11:02:42  20522643247   \n",
       "1918566     USD        3.66        0.66  2018-09-18 13:08:31  20522643247   \n",
       "1918567     USD        0.70        0.13  2018-09-19 17:40:13  20522643247   \n",
       "1918568     PEN      251.69       45.30  2018-09-13 11:05:59  20600845587   \n",
       "1918569     PEN      762.71      137.28  2018-09-04 16:27:16  20562634119   \n",
       "1918570     USD      394.99        0.00  2018-09-18 11:36:15  20600224281   \n",
       "1918571     USD       76.00       13.68  2018-09-18 11:51:04  20600224281   \n",
       "1918572     USD       90.00       16.20  2018-09-20 12:59:57  20600224281   \n",
       "1918573     USD       90.00       16.20  2018-09-20 13:03:05  20600224281   \n",
       "1918574     USD       76.00       13.68  2018-09-20 13:05:12  20600224281   \n",
       "1918575     USD       76.00       13.68  2018-09-20 13:09:08  20600224281   \n",
       "1918576     USD       76.00       13.68  2018-09-21 13:12:11  20600224281   \n",
       "1918577     USD      236.00       42.48  2018-09-21 13:18:13  20600224281   \n",
       "1918578     USD      140.00       25.20  2018-09-21 13:22:44  20600224281   \n",
       "1918579     USD       94.00        0.00  2018-09-18 19:50:28  20600224281   \n",
       "1918580     USD      152.00       27.36  2018-09-19 12:01:04  20600224281   \n",
       "1918581     USD      212.00       38.16  2018-09-19 12:17:20  20600224281   \n",
       "1918582     USD      130.00       23.40  2018-09-19 12:24:12  20600224281   \n",
       "1918583     USD      116.00       20.88  2018-09-19 12:29:36  20600224281   \n",
       "1918584     USD       76.00       13.68  2018-09-19 12:37:15  20600224281   \n",
       "1918585     USD      184.00       33.12  2018-09-19 12:50:41  20600224281   \n",
       "1918586     PEN       35.59        6.41  2018-09-04 18:36:37  20546017860   \n",
       "1918587     PEN       94.07       16.93  2018-09-11 20:23:56  20546017860   \n",
       "1918588     PEN    28262.71     5087.29  2018-09-14 15:56:48  20565666194   \n",
       "1918589     USD      100.00        0.00  2018-09-20 17:22:00  20301947641   \n",
       "\n",
       "                         ...                                    nom_comercial  \\\n",
       "0                        ...                   BEMBOS                           \n",
       "1                        ...                   BEMBOS                           \n",
       "2                        ...                   BEMBOS                           \n",
       "3                        ...                   BEMBOS                           \n",
       "4                        ...                   BEMBOS                           \n",
       "5                        ...                   BEMBOS                           \n",
       "6                        ...                   BEMBOS                           \n",
       "7                        ...                   BEMBOS                           \n",
       "8                        ...                   BEMBOS                           \n",
       "9                        ...                   BEMBOS                           \n",
       "10                       ...                   BEMBOS                           \n",
       "11                       ...                   BEMBOS                           \n",
       "12                       ...                   BEMBOS                           \n",
       "13                       ...                   BEMBOS                           \n",
       "14                       ...                   BEMBOS                           \n",
       "15                       ...                   BEMBOS                           \n",
       "16                       ...                   BEMBOS                           \n",
       "17                       ...                   BEMBOS                           \n",
       "18                       ...                   BEMBOS                           \n",
       "19                       ...                   BEMBOS                           \n",
       "20                       ...                   BEMBOS                           \n",
       "21                       ...                   BEMBOS                           \n",
       "22                       ...                   BEMBOS                           \n",
       "23                       ...                   BEMBOS                           \n",
       "24                       ...                   BEMBOS                           \n",
       "25                       ...                   BEMBOS                           \n",
       "26                       ...                   BEMBOS                           \n",
       "27                       ...                   BEMBOS                           \n",
       "28                       ...                   BEMBOS                           \n",
       "29                       ...                   BEMBOS                           \n",
       "...                      ...                                              ...   \n",
       "1918560                  ...                   -                                \n",
       "1918561                  ...                   -                                \n",
       "1918562                  ...                   -                                \n",
       "1918563                  ...                   -                                \n",
       "1918564                  ...                   TERRA MAGICA PERU                \n",
       "1918565                  ...                   TERRA MAGICA PERU                \n",
       "1918566                  ...                   TERRA MAGICA PERU                \n",
       "1918567                  ...                   TERRA MAGICA PERU                \n",
       "1918568                  ...                   CENGINE                          \n",
       "1918569                  ...                   -                                \n",
       "1918570                  ...                   -                                \n",
       "1918571                  ...                   -                                \n",
       "1918572                  ...                   -                                \n",
       "1918573                  ...                   -                                \n",
       "1918574                  ...                   -                                \n",
       "1918575                  ...                   -                                \n",
       "1918576                  ...                   -                                \n",
       "1918577                  ...                   -                                \n",
       "1918578                  ...                   -                                \n",
       "1918579                  ...                   -                                \n",
       "1918580                  ...                   -                                \n",
       "1918581                  ...                   -                                \n",
       "1918582                  ...                   -                                \n",
       "1918583                  ...                   -                                \n",
       "1918584                  ...                   -                                \n",
       "1918585                  ...                   -                                \n",
       "1918586                  ...                   -                                \n",
       "1918587                  ...                   -                                \n",
       "1918588                  ...                   -                                \n",
       "1918589                  ...                   LUCKY CHERRY                     \n",
       "\n",
       "                                              razon_social condicion  estado  \\\n",
       "0        BEMBOS S.A.C                                  ...    HABIDO  ACTIVO   \n",
       "1        BEMBOS S.A.C                                  ...    HABIDO  ACTIVO   \n",
       "2        BEMBOS S.A.C                                  ...    HABIDO  ACTIVO   \n",
       "3        BEMBOS S.A.C                                  ...    HABIDO  ACTIVO   \n",
       "4        BEMBOS S.A.C                                  ...    HABIDO  ACTIVO   \n",
       "5        BEMBOS S.A.C                                  ...    HABIDO  ACTIVO   \n",
       "6        BEMBOS S.A.C                                  ...    HABIDO  ACTIVO   \n",
       "7        BEMBOS S.A.C                                  ...    HABIDO  ACTIVO   \n",
       "8        BEMBOS S.A.C                                  ...    HABIDO  ACTIVO   \n",
       "9        BEMBOS S.A.C                                  ...    HABIDO  ACTIVO   \n",
       "10       BEMBOS S.A.C                                  ...    HABIDO  ACTIVO   \n",
       "11       BEMBOS S.A.C                                  ...    HABIDO  ACTIVO   \n",
       "12       BEMBOS S.A.C                                  ...    HABIDO  ACTIVO   \n",
       "13       BEMBOS S.A.C                                  ...    HABIDO  ACTIVO   \n",
       "14       BEMBOS S.A.C                                  ...    HABIDO  ACTIVO   \n",
       "15       BEMBOS S.A.C                                  ...    HABIDO  ACTIVO   \n",
       "16       BEMBOS S.A.C                                  ...    HABIDO  ACTIVO   \n",
       "17       BEMBOS S.A.C                                  ...    HABIDO  ACTIVO   \n",
       "18       BEMBOS S.A.C                                  ...    HABIDO  ACTIVO   \n",
       "19       BEMBOS S.A.C                                  ...    HABIDO  ACTIVO   \n",
       "20       BEMBOS S.A.C                                  ...    HABIDO  ACTIVO   \n",
       "21       BEMBOS S.A.C                                  ...    HABIDO  ACTIVO   \n",
       "22       BEMBOS S.A.C                                  ...    HABIDO  ACTIVO   \n",
       "23       BEMBOS S.A.C                                  ...    HABIDO  ACTIVO   \n",
       "24       BEMBOS S.A.C                                  ...    HABIDO  ACTIVO   \n",
       "25       BEMBOS S.A.C                                  ...    HABIDO  ACTIVO   \n",
       "26       BEMBOS S.A.C                                  ...    HABIDO  ACTIVO   \n",
       "27       BEMBOS S.A.C                                  ...    HABIDO  ACTIVO   \n",
       "28       BEMBOS S.A.C                                  ...    HABIDO  ACTIVO   \n",
       "29       BEMBOS S.A.C                                  ...    HABIDO  ACTIVO   \n",
       "...                                                    ...       ...     ...   \n",
       "1918560  NELLY POSTIGO RECEPCIONES E.I.R.L.            ...    HABIDO  ACTIVO   \n",
       "1918561  NELLY POSTIGO RECEPCIONES E.I.R.L.            ...    HABIDO  ACTIVO   \n",
       "1918562  NELLY POSTIGO RECEPCIONES E.I.R.L.            ...    HABIDO  ACTIVO   \n",
       "1918563  NELLY POSTIGO RECEPCIONES E.I.R.L.            ...    HABIDO  ACTIVO   \n",
       "1918564  TERRA MAGICA PERU SAC                         ...    HABIDO  ACTIVO   \n",
       "1918565  TERRA MAGICA PERU SAC                         ...    HABIDO  ACTIVO   \n",
       "1918566  TERRA MAGICA PERU SAC                         ...    HABIDO  ACTIVO   \n",
       "1918567  TERRA MAGICA PERU SAC                         ...    HABIDO  ACTIVO   \n",
       "1918568  CENTRO DE ESPECIALIDADES EN GINECOLOGIA  Y OBS...    HABIDO  ACTIVO   \n",
       "1918569  INSTITUTO LATINOAMERICANO DEL COMPORTAMIENTO S...    HABIDO  ACTIVO   \n",
       "1918570  AGENCIA DE VIAJES Y TURISMO PERU TOP ADVENTURE...    HABIDO  ACTIVO   \n",
       "1918571  AGENCIA DE VIAJES Y TURISMO PERU TOP ADVENTURE...    HABIDO  ACTIVO   \n",
       "1918572  AGENCIA DE VIAJES Y TURISMO PERU TOP ADVENTURE...    HABIDO  ACTIVO   \n",
       "1918573  AGENCIA DE VIAJES Y TURISMO PERU TOP ADVENTURE...    HABIDO  ACTIVO   \n",
       "1918574  AGENCIA DE VIAJES Y TURISMO PERU TOP ADVENTURE...    HABIDO  ACTIVO   \n",
       "1918575  AGENCIA DE VIAJES Y TURISMO PERU TOP ADVENTURE...    HABIDO  ACTIVO   \n",
       "1918576  AGENCIA DE VIAJES Y TURISMO PERU TOP ADVENTURE...    HABIDO  ACTIVO   \n",
       "1918577  AGENCIA DE VIAJES Y TURISMO PERU TOP ADVENTURE...    HABIDO  ACTIVO   \n",
       "1918578  AGENCIA DE VIAJES Y TURISMO PERU TOP ADVENTURE...    HABIDO  ACTIVO   \n",
       "1918579  AGENCIA DE VIAJES Y TURISMO PERU TOP ADVENTURE...    HABIDO  ACTIVO   \n",
       "1918580  AGENCIA DE VIAJES Y TURISMO PERU TOP ADVENTURE...    HABIDO  ACTIVO   \n",
       "1918581  AGENCIA DE VIAJES Y TURISMO PERU TOP ADVENTURE...    HABIDO  ACTIVO   \n",
       "1918582  AGENCIA DE VIAJES Y TURISMO PERU TOP ADVENTURE...    HABIDO  ACTIVO   \n",
       "1918583  AGENCIA DE VIAJES Y TURISMO PERU TOP ADVENTURE...    HABIDO  ACTIVO   \n",
       "1918584  AGENCIA DE VIAJES Y TURISMO PERU TOP ADVENTURE...    HABIDO  ACTIVO   \n",
       "1918585  AGENCIA DE VIAJES Y TURISMO PERU TOP ADVENTURE...    HABIDO  ACTIVO   \n",
       "1918586  CRESAN S.A.C.                                 ...    HABIDO  ACTIVO   \n",
       "1918587  CRESAN S.A.C.                                 ...    HABIDO  ACTIVO   \n",
       "1918588  SAN PASCUAL BAILON S.A.C.                     ...    HABIDO  ACTIVO   \n",
       "1918589  YON'S BROTHER S.R.LTDA.                       ...    HABIDO  ACTIVO   \n",
       "\n",
       "                                 tipo_emp     tamano cond_domicilio  ubigeo  \\\n",
       "0                SOCIEDAD ANONIMA CERRADA  PRINCIPAL      ALQUILADO  150140   \n",
       "1                SOCIEDAD ANONIMA CERRADA  PRINCIPAL      ALQUILADO  150140   \n",
       "2                SOCIEDAD ANONIMA CERRADA  PRINCIPAL      ALQUILADO  150140   \n",
       "3                SOCIEDAD ANONIMA CERRADA  PRINCIPAL      ALQUILADO  150140   \n",
       "4                SOCIEDAD ANONIMA CERRADA  PRINCIPAL      ALQUILADO  150140   \n",
       "5                SOCIEDAD ANONIMA CERRADA  PRINCIPAL      ALQUILADO  150140   \n",
       "6                SOCIEDAD ANONIMA CERRADA  PRINCIPAL      ALQUILADO  150140   \n",
       "7                SOCIEDAD ANONIMA CERRADA  PRINCIPAL      ALQUILADO  150140   \n",
       "8                SOCIEDAD ANONIMA CERRADA  PRINCIPAL      ALQUILADO  150140   \n",
       "9                SOCIEDAD ANONIMA CERRADA  PRINCIPAL      ALQUILADO  150140   \n",
       "10               SOCIEDAD ANONIMA CERRADA  PRINCIPAL      ALQUILADO  150140   \n",
       "11               SOCIEDAD ANONIMA CERRADA  PRINCIPAL      ALQUILADO  150140   \n",
       "12               SOCIEDAD ANONIMA CERRADA  PRINCIPAL      ALQUILADO  150140   \n",
       "13               SOCIEDAD ANONIMA CERRADA  PRINCIPAL      ALQUILADO  150140   \n",
       "14               SOCIEDAD ANONIMA CERRADA  PRINCIPAL      ALQUILADO  150140   \n",
       "15               SOCIEDAD ANONIMA CERRADA  PRINCIPAL      ALQUILADO  150140   \n",
       "16               SOCIEDAD ANONIMA CERRADA  PRINCIPAL      ALQUILADO  150140   \n",
       "17               SOCIEDAD ANONIMA CERRADA  PRINCIPAL      ALQUILADO  150140   \n",
       "18               SOCIEDAD ANONIMA CERRADA  PRINCIPAL      ALQUILADO  150140   \n",
       "19               SOCIEDAD ANONIMA CERRADA  PRINCIPAL      ALQUILADO  150140   \n",
       "20               SOCIEDAD ANONIMA CERRADA  PRINCIPAL      ALQUILADO  150140   \n",
       "21               SOCIEDAD ANONIMA CERRADA  PRINCIPAL      ALQUILADO  150140   \n",
       "22               SOCIEDAD ANONIMA CERRADA  PRINCIPAL      ALQUILADO  150140   \n",
       "23               SOCIEDAD ANONIMA CERRADA  PRINCIPAL      ALQUILADO  150140   \n",
       "24               SOCIEDAD ANONIMA CERRADA  PRINCIPAL      ALQUILADO  150140   \n",
       "25               SOCIEDAD ANONIMA CERRADA  PRINCIPAL      ALQUILADO  150140   \n",
       "26               SOCIEDAD ANONIMA CERRADA  PRINCIPAL      ALQUILADO  150140   \n",
       "27               SOCIEDAD ANONIMA CERRADA  PRINCIPAL      ALQUILADO  150140   \n",
       "28               SOCIEDAD ANONIMA CERRADA  PRINCIPAL      ALQUILADO  150140   \n",
       "29               SOCIEDAD ANONIMA CERRADA  PRINCIPAL      ALQUILADO  150140   \n",
       "...                                   ...        ...            ...     ...   \n",
       "1918560  EMPRESA INDIVIDUAL DE RESP. LTDA  PRINCIPAL  CESION EN USO   40126   \n",
       "1918561  EMPRESA INDIVIDUAL DE RESP. LTDA  PRINCIPAL  CESION EN USO   40126   \n",
       "1918562  EMPRESA INDIVIDUAL DE RESP. LTDA  PRINCIPAL  CESION EN USO   40126   \n",
       "1918563  EMPRESA INDIVIDUAL DE RESP. LTDA  PRINCIPAL  CESION EN USO   40126   \n",
       "1918564          SOCIEDAD ANONIMA CERRADA      RESTO          OTROS  150115   \n",
       "1918565          SOCIEDAD ANONIMA CERRADA      RESTO          OTROS  150115   \n",
       "1918566          SOCIEDAD ANONIMA CERRADA      RESTO          OTROS  150115   \n",
       "1918567          SOCIEDAD ANONIMA CERRADA      RESTO          OTROS  150115   \n",
       "1918568             SOC.COM.RESPONS. LTDA      RESTO      ALQUILADO  130101   \n",
       "1918569          SOCIEDAD ANONIMA CERRADA      RESTO      ALQUILADO  150122   \n",
       "1918570             SOC.COM.RESPONS. LTDA      RESTO      ALQUILADO   80108   \n",
       "1918571             SOC.COM.RESPONS. LTDA      RESTO      ALQUILADO   80108   \n",
       "1918572             SOC.COM.RESPONS. LTDA      RESTO      ALQUILADO   80108   \n",
       "1918573             SOC.COM.RESPONS. LTDA      RESTO      ALQUILADO   80108   \n",
       "1918574             SOC.COM.RESPONS. LTDA      RESTO      ALQUILADO   80108   \n",
       "1918575             SOC.COM.RESPONS. LTDA      RESTO      ALQUILADO   80108   \n",
       "1918576             SOC.COM.RESPONS. LTDA      RESTO      ALQUILADO   80108   \n",
       "1918577             SOC.COM.RESPONS. LTDA      RESTO      ALQUILADO   80108   \n",
       "1918578             SOC.COM.RESPONS. LTDA      RESTO      ALQUILADO   80108   \n",
       "1918579             SOC.COM.RESPONS. LTDA      RESTO      ALQUILADO   80108   \n",
       "1918580             SOC.COM.RESPONS. LTDA      RESTO      ALQUILADO   80108   \n",
       "1918581             SOC.COM.RESPONS. LTDA      RESTO      ALQUILADO   80108   \n",
       "1918582             SOC.COM.RESPONS. LTDA      RESTO      ALQUILADO   80108   \n",
       "1918583             SOC.COM.RESPONS. LTDA      RESTO      ALQUILADO   80108   \n",
       "1918584             SOC.COM.RESPONS. LTDA      RESTO      ALQUILADO   80108   \n",
       "1918585             SOC.COM.RESPONS. LTDA      RESTO      ALQUILADO   80108   \n",
       "1918586          SOCIEDAD ANONIMA CERRADA      RESTO      ALQUILADO  150130   \n",
       "1918587          SOCIEDAD ANONIMA CERRADA      RESTO      ALQUILADO  150130   \n",
       "1918588          SOCIEDAD ANONIMA CERRADA      RESTO      ALQUILADO  150122   \n",
       "1918589             SOC.COM.RESPONS. LTDA    MEDIANO      ALQUILADO  150101   \n",
       "\n",
       "        CATEGO_OBJETIVO                   Actividad_Economica  \n",
       "0                     1       RESTAURANTES, BARES Y CANTINAS.  \n",
       "1                     1       RESTAURANTES, BARES Y CANTINAS.  \n",
       "2                     1       RESTAURANTES, BARES Y CANTINAS.  \n",
       "3                     1       RESTAURANTES, BARES Y CANTINAS.  \n",
       "4                     1       RESTAURANTES, BARES Y CANTINAS.  \n",
       "5                     1       RESTAURANTES, BARES Y CANTINAS.  \n",
       "6                     1       RESTAURANTES, BARES Y CANTINAS.  \n",
       "7                     1       RESTAURANTES, BARES Y CANTINAS.  \n",
       "8                     1       RESTAURANTES, BARES Y CANTINAS.  \n",
       "9                     1       RESTAURANTES, BARES Y CANTINAS.  \n",
       "10                    1       RESTAURANTES, BARES Y CANTINAS.  \n",
       "11                    1       RESTAURANTES, BARES Y CANTINAS.  \n",
       "12                    1       RESTAURANTES, BARES Y CANTINAS.  \n",
       "13                    1       RESTAURANTES, BARES Y CANTINAS.  \n",
       "14                    1       RESTAURANTES, BARES Y CANTINAS.  \n",
       "15                    1       RESTAURANTES, BARES Y CANTINAS.  \n",
       "16                    1       RESTAURANTES, BARES Y CANTINAS.  \n",
       "17                    1       RESTAURANTES, BARES Y CANTINAS.  \n",
       "18                    1       RESTAURANTES, BARES Y CANTINAS.  \n",
       "19                    1       RESTAURANTES, BARES Y CANTINAS.  \n",
       "20                    1       RESTAURANTES, BARES Y CANTINAS.  \n",
       "21                    1       RESTAURANTES, BARES Y CANTINAS.  \n",
       "22                    1       RESTAURANTES, BARES Y CANTINAS.  \n",
       "23                    1       RESTAURANTES, BARES Y CANTINAS.  \n",
       "24                    1       RESTAURANTES, BARES Y CANTINAS.  \n",
       "25                    1       RESTAURANTES, BARES Y CANTINAS.  \n",
       "26                    1       RESTAURANTES, BARES Y CANTINAS.  \n",
       "27                    1       RESTAURANTES, BARES Y CANTINAS.  \n",
       "28                    1       RESTAURANTES, BARES Y CANTINAS.  \n",
       "29                    1       RESTAURANTES, BARES Y CANTINAS.  \n",
       "...                 ...                                   ...  \n",
       "1918560               1       RESTAURANTES, BARES Y CANTINAS.  \n",
       "1918561               1       RESTAURANTES, BARES Y CANTINAS.  \n",
       "1918562               1       RESTAURANTES, BARES Y CANTINAS.  \n",
       "1918563               1       RESTAURANTES, BARES Y CANTINAS.  \n",
       "1918564               1  AGENCIAS DE VIAJES Y GUIAS TURISTIC.  \n",
       "1918565               1  AGENCIAS DE VIAJES Y GUIAS TURISTIC.  \n",
       "1918566               1  AGENCIAS DE VIAJES Y GUIAS TURISTIC.  \n",
       "1918567               1  AGENCIAS DE VIAJES Y GUIAS TURISTIC.  \n",
       "1918568               1   OTRAS ACTIV.RELAC. CON SALUD HUMANA  \n",
       "1918569               1   OTRAS ACTIV.RELAC. CON SALUD HUMANA  \n",
       "1918570               1  AGENCIAS DE VIAJES Y GUIAS TURISTIC.  \n",
       "1918571               1  AGENCIAS DE VIAJES Y GUIAS TURISTIC.  \n",
       "1918572               1  AGENCIAS DE VIAJES Y GUIAS TURISTIC.  \n",
       "1918573               1  AGENCIAS DE VIAJES Y GUIAS TURISTIC.  \n",
       "1918574               1  AGENCIAS DE VIAJES Y GUIAS TURISTIC.  \n",
       "1918575               1  AGENCIAS DE VIAJES Y GUIAS TURISTIC.  \n",
       "1918576               1  AGENCIAS DE VIAJES Y GUIAS TURISTIC.  \n",
       "1918577               1  AGENCIAS DE VIAJES Y GUIAS TURISTIC.  \n",
       "1918578               1  AGENCIAS DE VIAJES Y GUIAS TURISTIC.  \n",
       "1918579               1  AGENCIAS DE VIAJES Y GUIAS TURISTIC.  \n",
       "1918580               1  AGENCIAS DE VIAJES Y GUIAS TURISTIC.  \n",
       "1918581               1  AGENCIAS DE VIAJES Y GUIAS TURISTIC.  \n",
       "1918582               1  AGENCIAS DE VIAJES Y GUIAS TURISTIC.  \n",
       "1918583               1  AGENCIAS DE VIAJES Y GUIAS TURISTIC.  \n",
       "1918584               1  AGENCIAS DE VIAJES Y GUIAS TURISTIC.  \n",
       "1918585               1  AGENCIAS DE VIAJES Y GUIAS TURISTIC.  \n",
       "1918586               1       RESTAURANTES, BARES Y CANTINAS.  \n",
       "1918587               1       RESTAURANTES, BARES Y CANTINAS.  \n",
       "1918588               1       RESTAURANTES, BARES Y CANTINAS.  \n",
       "1918589               1    OTRAS ACTIVID.ENTRETENIMIENTO NCP.  \n",
       "\n",
       "[1918590 rows x 24 columns]>"
      ]
     },
     "execution_count": 27,
     "metadata": {},
     "output_type": "execute_result"
    }
   ],
   "source": [
    "MD_Factura.head"
   ]
  },
  {
   "cell_type": "code",
   "execution_count": 28,
   "metadata": {
    "collapsed": true
   },
   "outputs": [],
   "source": [
    "#MD_Factura.columns\n",
    "MD_Factura.columns = [\"COD_TIPOCOMP\",\"NUM_RUC\",\"NUM_SERIECPE\",\"NUM_CPE\", \n",
    "                      \"NUM_DOCIDENTI\",\"COD_MON\", \"MTO_IMPCPE\",\"MTO_IGVCPE\",\"FEC_EMICPE\", \"EMISOR\",\n",
    "                      \"cod_act_princ_emis\", \"AP_EMISOR\", \"AS1_EMISOR\", \"AS2_EMISOR\",\n",
    "                      \"nom_comercial_emis\", \"RS_EMISOR\", \"condicion_emis\", \"estado_emis\", \n",
    "                      \"tipo_emp_emis\", \"tamano_emis\", \"cond_domicilio_emis\", \"UBIGEO_EMIS\",\n",
    "                      \"CATEGO_OBJETIVO\", \"Actividad_Economica\"]"
   ]
  },
  {
   "cell_type": "code",
   "execution_count": 29,
   "metadata": {},
   "outputs": [
    {
     "data": {
      "text/plain": [
       "<bound method NDFrame.head of          COD_TIPOCOMP      NUM_RUC NUM_SERIECPE  NUM_CPE     NUM_DOCIDENTI  \\\n",
       "0                   1  20101087647         F031    90287  20548080461        \n",
       "1                   1  20101087647         F297    19886  20108221578        \n",
       "2                   1  20101087647         F209    77334  20603037058        \n",
       "3                   1  20101087647         F305    31352  10293526279        \n",
       "4                   1  20101087647         F078    15475  20600754549        \n",
       "5                   1  20101087647         F034    25982  20553824924        \n",
       "6                   1  20101087647         F031    90288  20567129331        \n",
       "7                   1  20101087647         F030    38159  20451770501        \n",
       "8                   1  20101087647         F017    33045  20502073401        \n",
       "9                   1  20101087647         F285    20686  20555964766        \n",
       "10                  1  20101087647         F030    38160  20517207331        \n",
       "11                  1  20101087647         F281    62512  20547975325        \n",
       "12                  1  20101087647         F008    37091  20470785391        \n",
       "13                  1  20101087647         F331    18705  20513482656        \n",
       "14                  1  20101087647         F257     1921  20552292520        \n",
       "15                  1  20101087647         F100    37759  20492568920        \n",
       "16                  1  20101087647         F257     1922  20603343914        \n",
       "17                  1  20101087647         F156    32996  20600128842        \n",
       "18                  1  20101087647         F152    30704  20524789443        \n",
       "19                  1  20101087647         F279    16643  20601303249        \n",
       "20                  1  20101087647         F309    18149  20507338748        \n",
       "21                  1  20101087647         F057    45347  20492251217        \n",
       "22                  1  20101087647         F030    38163  20543203701        \n",
       "23                  1  20101087647         F287    33610  20545623651        \n",
       "24                  1  20101087647         F339    31429  20423561409        \n",
       "25                  1  20101087647         F034    25967  20126239689        \n",
       "26                  1  20101087647         F034    25968  20205605500        \n",
       "27                  1  20101087647         F297    19887  20214662800        \n",
       "28                  1  20101087647         F057    45331  20390542641        \n",
       "29                  1  20101087647         F100    37731  20467534026        \n",
       "...               ...          ...          ...      ...               ...   \n",
       "1918560             1  20327591062         F001      224  20100192064        \n",
       "1918561             1  20327591062         F001      226  20498459952        \n",
       "1918562             1  20327591062         F001      227  20411519784        \n",
       "1918563             1  20327591062         F001      223  20100192064        \n",
       "1918564             1  20522643247         F001      109  20126339632        \n",
       "1918565             1  20522643247         F001      110  20513917997        \n",
       "1918566             1  20522643247         F001      111  20126339632        \n",
       "1918567             1  20522643247         F001      112  20126339632        \n",
       "1918568             1  20600845587         F001       16  20601375703        \n",
       "1918569             1  20562634119         F001      134  20548604479        \n",
       "1918570             1  20600224281         F001        2  594792302          \n",
       "1918571             1  20600224281         F001        3  20602731562        \n",
       "1918572             1  20600224281         F001       17  20602731562        \n",
       "1918573             1  20600224281         F001       18  20602731562        \n",
       "1918574             1  20600224281         F001       19  20602731562        \n",
       "1918575             1  20600224281         F001       20  20602731562        \n",
       "1918576             1  20600224281         F001       21  20602731562        \n",
       "1918577             1  20600224281         F001       22  20602731562        \n",
       "1918578             1  20600224281         F001       23  20602731562        \n",
       "1918579             1  20600224281         F001        1  459159368          \n",
       "1918580             1  20600224281         F001       11  20602731562        \n",
       "1918581             1  20600224281         F001       12  20602731562        \n",
       "1918582             1  20600224281         F001       13  20602731562        \n",
       "1918583             1  20600224281         F001       14  20602731562        \n",
       "1918584             1  20600224281         F001       15  20602731562        \n",
       "1918585             1  20600224281         F001       16  20537027674        \n",
       "1918586             1  20546017860         F001        5  20543217752        \n",
       "1918587             1  20546017860         F001        6  20514342777        \n",
       "1918588             1  20565666194         F001       28  20109072177        \n",
       "1918589             1  20301947641         F001        6  10438279861        \n",
       "\n",
       "        COD_MON  MTO_IMPCPE  MTO_IGVCPE           FEC_EMICPE       EMISOR  \\\n",
       "0           PEN        7.39        1.33  2018-09-04 00:00:00  20101087647   \n",
       "1           PEN       29.80        5.36  2018-09-02 00:00:00  20101087647   \n",
       "2           PEN       19.41        3.49  2018-09-02 00:00:00  20101087647   \n",
       "3           PEN       24.81        4.47  2018-09-02 00:00:00  20101087647   \n",
       "4           PEN       10.70        1.93  2018-09-02 00:00:00  20101087647   \n",
       "5           PEN       54.53        9.81  2018-09-04 00:00:00  20101087647   \n",
       "6           PEN      155.25       27.95  2018-09-04 00:00:00  20101087647   \n",
       "7           PEN       65.73       11.83  2018-09-04 00:00:00  20101087647   \n",
       "8           PEN       37.18        6.69  2018-09-04 00:00:00  20101087647   \n",
       "9           PEN       37.09        6.68  2018-09-04 00:00:00  20101087647   \n",
       "10          PEN       47.04        8.47  2018-09-04 00:00:00  20101087647   \n",
       "11          PEN       33.11        5.96  2018-09-04 00:00:00  20101087647   \n",
       "12          PEN       13.19        2.38  2018-09-04 00:00:00  20101087647   \n",
       "13          PEN       61.16       11.01  2018-09-04 00:00:00  20101087647   \n",
       "14          PEN       20.66        3.72  2018-09-04 00:00:00  20101087647   \n",
       "15          PEN        2.91        0.52  2018-09-04 00:00:00  20101087647   \n",
       "16          PEN       38.75        6.98  2018-09-04 00:00:00  20101087647   \n",
       "17          PEN       25.64        4.62  2018-09-04 00:00:00  20101087647   \n",
       "18          PEN       27.29        4.91  2018-09-04 00:00:00  20101087647   \n",
       "19          PEN       23.07        4.15  2018-09-04 00:00:00  20101087647   \n",
       "20          PEN       13.19        2.38  2018-09-04 00:00:00  20101087647   \n",
       "21          PEN       32.61        5.87  2018-09-04 00:00:00  20101087647   \n",
       "22          PEN       29.71        5.35  2018-09-04 00:00:00  20101087647   \n",
       "23          PEN       61.91       11.14  2018-09-02 00:00:00  20101087647   \n",
       "24          PEN       40.50        7.29  2018-09-02 00:00:00  20101087647   \n",
       "25          PEN       24.81        4.47  2018-09-02 00:00:00  20101087647   \n",
       "26          PEN       14.86        2.67  2018-09-02 00:00:00  20101087647   \n",
       "27          PEN       27.64        4.97  2018-09-02 00:00:00  20101087647   \n",
       "28          PEN       49.38        8.89  2018-09-02 00:00:00  20101087647   \n",
       "29          PEN       14.86        2.67  2018-09-02 00:00:00  20101087647   \n",
       "...         ...         ...         ...                  ...          ...   \n",
       "1918560     PEN    31278.00     5630.04  2018-09-17 17:54:48  20327591062   \n",
       "1918561     PEN      186.44       33.56  2018-09-25 13:05:37  20327591062   \n",
       "1918562     PEN      186.44       33.56  2018-09-25 13:12:17  20327591062   \n",
       "1918563     PEN    38200.00     6876.00  2018-09-12 15:00:46  20327591062   \n",
       "1918564     USD       12.00        2.16  2018-09-06 10:44:27  20522643247   \n",
       "1918565     USD       19.75        3.55  2018-09-11 11:02:42  20522643247   \n",
       "1918566     USD        3.66        0.66  2018-09-18 13:08:31  20522643247   \n",
       "1918567     USD        0.70        0.13  2018-09-19 17:40:13  20522643247   \n",
       "1918568     PEN      251.69       45.30  2018-09-13 11:05:59  20600845587   \n",
       "1918569     PEN      762.71      137.28  2018-09-04 16:27:16  20562634119   \n",
       "1918570     USD      394.99        0.00  2018-09-18 11:36:15  20600224281   \n",
       "1918571     USD       76.00       13.68  2018-09-18 11:51:04  20600224281   \n",
       "1918572     USD       90.00       16.20  2018-09-20 12:59:57  20600224281   \n",
       "1918573     USD       90.00       16.20  2018-09-20 13:03:05  20600224281   \n",
       "1918574     USD       76.00       13.68  2018-09-20 13:05:12  20600224281   \n",
       "1918575     USD       76.00       13.68  2018-09-20 13:09:08  20600224281   \n",
       "1918576     USD       76.00       13.68  2018-09-21 13:12:11  20600224281   \n",
       "1918577     USD      236.00       42.48  2018-09-21 13:18:13  20600224281   \n",
       "1918578     USD      140.00       25.20  2018-09-21 13:22:44  20600224281   \n",
       "1918579     USD       94.00        0.00  2018-09-18 19:50:28  20600224281   \n",
       "1918580     USD      152.00       27.36  2018-09-19 12:01:04  20600224281   \n",
       "1918581     USD      212.00       38.16  2018-09-19 12:17:20  20600224281   \n",
       "1918582     USD      130.00       23.40  2018-09-19 12:24:12  20600224281   \n",
       "1918583     USD      116.00       20.88  2018-09-19 12:29:36  20600224281   \n",
       "1918584     USD       76.00       13.68  2018-09-19 12:37:15  20600224281   \n",
       "1918585     USD      184.00       33.12  2018-09-19 12:50:41  20600224281   \n",
       "1918586     PEN       35.59        6.41  2018-09-04 18:36:37  20546017860   \n",
       "1918587     PEN       94.07       16.93  2018-09-11 20:23:56  20546017860   \n",
       "1918588     PEN    28262.71     5087.29  2018-09-14 15:56:48  20565666194   \n",
       "1918589     USD      100.00        0.00  2018-09-20 17:22:00  20301947641   \n",
       "\n",
       "                         ...                               nom_comercial_emis  \\\n",
       "0                        ...                   BEMBOS                           \n",
       "1                        ...                   BEMBOS                           \n",
       "2                        ...                   BEMBOS                           \n",
       "3                        ...                   BEMBOS                           \n",
       "4                        ...                   BEMBOS                           \n",
       "5                        ...                   BEMBOS                           \n",
       "6                        ...                   BEMBOS                           \n",
       "7                        ...                   BEMBOS                           \n",
       "8                        ...                   BEMBOS                           \n",
       "9                        ...                   BEMBOS                           \n",
       "10                       ...                   BEMBOS                           \n",
       "11                       ...                   BEMBOS                           \n",
       "12                       ...                   BEMBOS                           \n",
       "13                       ...                   BEMBOS                           \n",
       "14                       ...                   BEMBOS                           \n",
       "15                       ...                   BEMBOS                           \n",
       "16                       ...                   BEMBOS                           \n",
       "17                       ...                   BEMBOS                           \n",
       "18                       ...                   BEMBOS                           \n",
       "19                       ...                   BEMBOS                           \n",
       "20                       ...                   BEMBOS                           \n",
       "21                       ...                   BEMBOS                           \n",
       "22                       ...                   BEMBOS                           \n",
       "23                       ...                   BEMBOS                           \n",
       "24                       ...                   BEMBOS                           \n",
       "25                       ...                   BEMBOS                           \n",
       "26                       ...                   BEMBOS                           \n",
       "27                       ...                   BEMBOS                           \n",
       "28                       ...                   BEMBOS                           \n",
       "29                       ...                   BEMBOS                           \n",
       "...                      ...                                              ...   \n",
       "1918560                  ...                   -                                \n",
       "1918561                  ...                   -                                \n",
       "1918562                  ...                   -                                \n",
       "1918563                  ...                   -                                \n",
       "1918564                  ...                   TERRA MAGICA PERU                \n",
       "1918565                  ...                   TERRA MAGICA PERU                \n",
       "1918566                  ...                   TERRA MAGICA PERU                \n",
       "1918567                  ...                   TERRA MAGICA PERU                \n",
       "1918568                  ...                   CENGINE                          \n",
       "1918569                  ...                   -                                \n",
       "1918570                  ...                   -                                \n",
       "1918571                  ...                   -                                \n",
       "1918572                  ...                   -                                \n",
       "1918573                  ...                   -                                \n",
       "1918574                  ...                   -                                \n",
       "1918575                  ...                   -                                \n",
       "1918576                  ...                   -                                \n",
       "1918577                  ...                   -                                \n",
       "1918578                  ...                   -                                \n",
       "1918579                  ...                   -                                \n",
       "1918580                  ...                   -                                \n",
       "1918581                  ...                   -                                \n",
       "1918582                  ...                   -                                \n",
       "1918583                  ...                   -                                \n",
       "1918584                  ...                   -                                \n",
       "1918585                  ...                   -                                \n",
       "1918586                  ...                   -                                \n",
       "1918587                  ...                   -                                \n",
       "1918588                  ...                   -                                \n",
       "1918589                  ...                   LUCKY CHERRY                     \n",
       "\n",
       "                                                 RS_EMISOR condicion_emis  \\\n",
       "0        BEMBOS S.A.C                                  ...         HABIDO   \n",
       "1        BEMBOS S.A.C                                  ...         HABIDO   \n",
       "2        BEMBOS S.A.C                                  ...         HABIDO   \n",
       "3        BEMBOS S.A.C                                  ...         HABIDO   \n",
       "4        BEMBOS S.A.C                                  ...         HABIDO   \n",
       "5        BEMBOS S.A.C                                  ...         HABIDO   \n",
       "6        BEMBOS S.A.C                                  ...         HABIDO   \n",
       "7        BEMBOS S.A.C                                  ...         HABIDO   \n",
       "8        BEMBOS S.A.C                                  ...         HABIDO   \n",
       "9        BEMBOS S.A.C                                  ...         HABIDO   \n",
       "10       BEMBOS S.A.C                                  ...         HABIDO   \n",
       "11       BEMBOS S.A.C                                  ...         HABIDO   \n",
       "12       BEMBOS S.A.C                                  ...         HABIDO   \n",
       "13       BEMBOS S.A.C                                  ...         HABIDO   \n",
       "14       BEMBOS S.A.C                                  ...         HABIDO   \n",
       "15       BEMBOS S.A.C                                  ...         HABIDO   \n",
       "16       BEMBOS S.A.C                                  ...         HABIDO   \n",
       "17       BEMBOS S.A.C                                  ...         HABIDO   \n",
       "18       BEMBOS S.A.C                                  ...         HABIDO   \n",
       "19       BEMBOS S.A.C                                  ...         HABIDO   \n",
       "20       BEMBOS S.A.C                                  ...         HABIDO   \n",
       "21       BEMBOS S.A.C                                  ...         HABIDO   \n",
       "22       BEMBOS S.A.C                                  ...         HABIDO   \n",
       "23       BEMBOS S.A.C                                  ...         HABIDO   \n",
       "24       BEMBOS S.A.C                                  ...         HABIDO   \n",
       "25       BEMBOS S.A.C                                  ...         HABIDO   \n",
       "26       BEMBOS S.A.C                                  ...         HABIDO   \n",
       "27       BEMBOS S.A.C                                  ...         HABIDO   \n",
       "28       BEMBOS S.A.C                                  ...         HABIDO   \n",
       "29       BEMBOS S.A.C                                  ...         HABIDO   \n",
       "...                                                    ...            ...   \n",
       "1918560  NELLY POSTIGO RECEPCIONES E.I.R.L.            ...         HABIDO   \n",
       "1918561  NELLY POSTIGO RECEPCIONES E.I.R.L.            ...         HABIDO   \n",
       "1918562  NELLY POSTIGO RECEPCIONES E.I.R.L.            ...         HABIDO   \n",
       "1918563  NELLY POSTIGO RECEPCIONES E.I.R.L.            ...         HABIDO   \n",
       "1918564  TERRA MAGICA PERU SAC                         ...         HABIDO   \n",
       "1918565  TERRA MAGICA PERU SAC                         ...         HABIDO   \n",
       "1918566  TERRA MAGICA PERU SAC                         ...         HABIDO   \n",
       "1918567  TERRA MAGICA PERU SAC                         ...         HABIDO   \n",
       "1918568  CENTRO DE ESPECIALIDADES EN GINECOLOGIA  Y OBS...         HABIDO   \n",
       "1918569  INSTITUTO LATINOAMERICANO DEL COMPORTAMIENTO S...         HABIDO   \n",
       "1918570  AGENCIA DE VIAJES Y TURISMO PERU TOP ADVENTURE...         HABIDO   \n",
       "1918571  AGENCIA DE VIAJES Y TURISMO PERU TOP ADVENTURE...         HABIDO   \n",
       "1918572  AGENCIA DE VIAJES Y TURISMO PERU TOP ADVENTURE...         HABIDO   \n",
       "1918573  AGENCIA DE VIAJES Y TURISMO PERU TOP ADVENTURE...         HABIDO   \n",
       "1918574  AGENCIA DE VIAJES Y TURISMO PERU TOP ADVENTURE...         HABIDO   \n",
       "1918575  AGENCIA DE VIAJES Y TURISMO PERU TOP ADVENTURE...         HABIDO   \n",
       "1918576  AGENCIA DE VIAJES Y TURISMO PERU TOP ADVENTURE...         HABIDO   \n",
       "1918577  AGENCIA DE VIAJES Y TURISMO PERU TOP ADVENTURE...         HABIDO   \n",
       "1918578  AGENCIA DE VIAJES Y TURISMO PERU TOP ADVENTURE...         HABIDO   \n",
       "1918579  AGENCIA DE VIAJES Y TURISMO PERU TOP ADVENTURE...         HABIDO   \n",
       "1918580  AGENCIA DE VIAJES Y TURISMO PERU TOP ADVENTURE...         HABIDO   \n",
       "1918581  AGENCIA DE VIAJES Y TURISMO PERU TOP ADVENTURE...         HABIDO   \n",
       "1918582  AGENCIA DE VIAJES Y TURISMO PERU TOP ADVENTURE...         HABIDO   \n",
       "1918583  AGENCIA DE VIAJES Y TURISMO PERU TOP ADVENTURE...         HABIDO   \n",
       "1918584  AGENCIA DE VIAJES Y TURISMO PERU TOP ADVENTURE...         HABIDO   \n",
       "1918585  AGENCIA DE VIAJES Y TURISMO PERU TOP ADVENTURE...         HABIDO   \n",
       "1918586  CRESAN S.A.C.                                 ...         HABIDO   \n",
       "1918587  CRESAN S.A.C.                                 ...         HABIDO   \n",
       "1918588  SAN PASCUAL BAILON S.A.C.                     ...         HABIDO   \n",
       "1918589  YON'S BROTHER S.R.LTDA.                       ...         HABIDO   \n",
       "\n",
       "        estado_emis                     tipo_emp_emis tamano_emis  \\\n",
       "0            ACTIVO          SOCIEDAD ANONIMA CERRADA   PRINCIPAL   \n",
       "1            ACTIVO          SOCIEDAD ANONIMA CERRADA   PRINCIPAL   \n",
       "2            ACTIVO          SOCIEDAD ANONIMA CERRADA   PRINCIPAL   \n",
       "3            ACTIVO          SOCIEDAD ANONIMA CERRADA   PRINCIPAL   \n",
       "4            ACTIVO          SOCIEDAD ANONIMA CERRADA   PRINCIPAL   \n",
       "5            ACTIVO          SOCIEDAD ANONIMA CERRADA   PRINCIPAL   \n",
       "6            ACTIVO          SOCIEDAD ANONIMA CERRADA   PRINCIPAL   \n",
       "7            ACTIVO          SOCIEDAD ANONIMA CERRADA   PRINCIPAL   \n",
       "8            ACTIVO          SOCIEDAD ANONIMA CERRADA   PRINCIPAL   \n",
       "9            ACTIVO          SOCIEDAD ANONIMA CERRADA   PRINCIPAL   \n",
       "10           ACTIVO          SOCIEDAD ANONIMA CERRADA   PRINCIPAL   \n",
       "11           ACTIVO          SOCIEDAD ANONIMA CERRADA   PRINCIPAL   \n",
       "12           ACTIVO          SOCIEDAD ANONIMA CERRADA   PRINCIPAL   \n",
       "13           ACTIVO          SOCIEDAD ANONIMA CERRADA   PRINCIPAL   \n",
       "14           ACTIVO          SOCIEDAD ANONIMA CERRADA   PRINCIPAL   \n",
       "15           ACTIVO          SOCIEDAD ANONIMA CERRADA   PRINCIPAL   \n",
       "16           ACTIVO          SOCIEDAD ANONIMA CERRADA   PRINCIPAL   \n",
       "17           ACTIVO          SOCIEDAD ANONIMA CERRADA   PRINCIPAL   \n",
       "18           ACTIVO          SOCIEDAD ANONIMA CERRADA   PRINCIPAL   \n",
       "19           ACTIVO          SOCIEDAD ANONIMA CERRADA   PRINCIPAL   \n",
       "20           ACTIVO          SOCIEDAD ANONIMA CERRADA   PRINCIPAL   \n",
       "21           ACTIVO          SOCIEDAD ANONIMA CERRADA   PRINCIPAL   \n",
       "22           ACTIVO          SOCIEDAD ANONIMA CERRADA   PRINCIPAL   \n",
       "23           ACTIVO          SOCIEDAD ANONIMA CERRADA   PRINCIPAL   \n",
       "24           ACTIVO          SOCIEDAD ANONIMA CERRADA   PRINCIPAL   \n",
       "25           ACTIVO          SOCIEDAD ANONIMA CERRADA   PRINCIPAL   \n",
       "26           ACTIVO          SOCIEDAD ANONIMA CERRADA   PRINCIPAL   \n",
       "27           ACTIVO          SOCIEDAD ANONIMA CERRADA   PRINCIPAL   \n",
       "28           ACTIVO          SOCIEDAD ANONIMA CERRADA   PRINCIPAL   \n",
       "29           ACTIVO          SOCIEDAD ANONIMA CERRADA   PRINCIPAL   \n",
       "...             ...                               ...         ...   \n",
       "1918560      ACTIVO  EMPRESA INDIVIDUAL DE RESP. LTDA   PRINCIPAL   \n",
       "1918561      ACTIVO  EMPRESA INDIVIDUAL DE RESP. LTDA   PRINCIPAL   \n",
       "1918562      ACTIVO  EMPRESA INDIVIDUAL DE RESP. LTDA   PRINCIPAL   \n",
       "1918563      ACTIVO  EMPRESA INDIVIDUAL DE RESP. LTDA   PRINCIPAL   \n",
       "1918564      ACTIVO          SOCIEDAD ANONIMA CERRADA       RESTO   \n",
       "1918565      ACTIVO          SOCIEDAD ANONIMA CERRADA       RESTO   \n",
       "1918566      ACTIVO          SOCIEDAD ANONIMA CERRADA       RESTO   \n",
       "1918567      ACTIVO          SOCIEDAD ANONIMA CERRADA       RESTO   \n",
       "1918568      ACTIVO             SOC.COM.RESPONS. LTDA       RESTO   \n",
       "1918569      ACTIVO          SOCIEDAD ANONIMA CERRADA       RESTO   \n",
       "1918570      ACTIVO             SOC.COM.RESPONS. LTDA       RESTO   \n",
       "1918571      ACTIVO             SOC.COM.RESPONS. LTDA       RESTO   \n",
       "1918572      ACTIVO             SOC.COM.RESPONS. LTDA       RESTO   \n",
       "1918573      ACTIVO             SOC.COM.RESPONS. LTDA       RESTO   \n",
       "1918574      ACTIVO             SOC.COM.RESPONS. LTDA       RESTO   \n",
       "1918575      ACTIVO             SOC.COM.RESPONS. LTDA       RESTO   \n",
       "1918576      ACTIVO             SOC.COM.RESPONS. LTDA       RESTO   \n",
       "1918577      ACTIVO             SOC.COM.RESPONS. LTDA       RESTO   \n",
       "1918578      ACTIVO             SOC.COM.RESPONS. LTDA       RESTO   \n",
       "1918579      ACTIVO             SOC.COM.RESPONS. LTDA       RESTO   \n",
       "1918580      ACTIVO             SOC.COM.RESPONS. LTDA       RESTO   \n",
       "1918581      ACTIVO             SOC.COM.RESPONS. LTDA       RESTO   \n",
       "1918582      ACTIVO             SOC.COM.RESPONS. LTDA       RESTO   \n",
       "1918583      ACTIVO             SOC.COM.RESPONS. LTDA       RESTO   \n",
       "1918584      ACTIVO             SOC.COM.RESPONS. LTDA       RESTO   \n",
       "1918585      ACTIVO             SOC.COM.RESPONS. LTDA       RESTO   \n",
       "1918586      ACTIVO          SOCIEDAD ANONIMA CERRADA       RESTO   \n",
       "1918587      ACTIVO          SOCIEDAD ANONIMA CERRADA       RESTO   \n",
       "1918588      ACTIVO          SOCIEDAD ANONIMA CERRADA       RESTO   \n",
       "1918589      ACTIVO             SOC.COM.RESPONS. LTDA     MEDIANO   \n",
       "\n",
       "        cond_domicilio_emis UBIGEO_EMIS CATEGO_OBJETIVO  \\\n",
       "0                 ALQUILADO      150140               1   \n",
       "1                 ALQUILADO      150140               1   \n",
       "2                 ALQUILADO      150140               1   \n",
       "3                 ALQUILADO      150140               1   \n",
       "4                 ALQUILADO      150140               1   \n",
       "5                 ALQUILADO      150140               1   \n",
       "6                 ALQUILADO      150140               1   \n",
       "7                 ALQUILADO      150140               1   \n",
       "8                 ALQUILADO      150140               1   \n",
       "9                 ALQUILADO      150140               1   \n",
       "10                ALQUILADO      150140               1   \n",
       "11                ALQUILADO      150140               1   \n",
       "12                ALQUILADO      150140               1   \n",
       "13                ALQUILADO      150140               1   \n",
       "14                ALQUILADO      150140               1   \n",
       "15                ALQUILADO      150140               1   \n",
       "16                ALQUILADO      150140               1   \n",
       "17                ALQUILADO      150140               1   \n",
       "18                ALQUILADO      150140               1   \n",
       "19                ALQUILADO      150140               1   \n",
       "20                ALQUILADO      150140               1   \n",
       "21                ALQUILADO      150140               1   \n",
       "22                ALQUILADO      150140               1   \n",
       "23                ALQUILADO      150140               1   \n",
       "24                ALQUILADO      150140               1   \n",
       "25                ALQUILADO      150140               1   \n",
       "26                ALQUILADO      150140               1   \n",
       "27                ALQUILADO      150140               1   \n",
       "28                ALQUILADO      150140               1   \n",
       "29                ALQUILADO      150140               1   \n",
       "...                     ...         ...             ...   \n",
       "1918560       CESION EN USO       40126               1   \n",
       "1918561       CESION EN USO       40126               1   \n",
       "1918562       CESION EN USO       40126               1   \n",
       "1918563       CESION EN USO       40126               1   \n",
       "1918564               OTROS      150115               1   \n",
       "1918565               OTROS      150115               1   \n",
       "1918566               OTROS      150115               1   \n",
       "1918567               OTROS      150115               1   \n",
       "1918568           ALQUILADO      130101               1   \n",
       "1918569           ALQUILADO      150122               1   \n",
       "1918570           ALQUILADO       80108               1   \n",
       "1918571           ALQUILADO       80108               1   \n",
       "1918572           ALQUILADO       80108               1   \n",
       "1918573           ALQUILADO       80108               1   \n",
       "1918574           ALQUILADO       80108               1   \n",
       "1918575           ALQUILADO       80108               1   \n",
       "1918576           ALQUILADO       80108               1   \n",
       "1918577           ALQUILADO       80108               1   \n",
       "1918578           ALQUILADO       80108               1   \n",
       "1918579           ALQUILADO       80108               1   \n",
       "1918580           ALQUILADO       80108               1   \n",
       "1918581           ALQUILADO       80108               1   \n",
       "1918582           ALQUILADO       80108               1   \n",
       "1918583           ALQUILADO       80108               1   \n",
       "1918584           ALQUILADO       80108               1   \n",
       "1918585           ALQUILADO       80108               1   \n",
       "1918586           ALQUILADO      150130               1   \n",
       "1918587           ALQUILADO      150130               1   \n",
       "1918588           ALQUILADO      150122               1   \n",
       "1918589           ALQUILADO      150101               1   \n",
       "\n",
       "                          Actividad_Economica  \n",
       "0             RESTAURANTES, BARES Y CANTINAS.  \n",
       "1             RESTAURANTES, BARES Y CANTINAS.  \n",
       "2             RESTAURANTES, BARES Y CANTINAS.  \n",
       "3             RESTAURANTES, BARES Y CANTINAS.  \n",
       "4             RESTAURANTES, BARES Y CANTINAS.  \n",
       "5             RESTAURANTES, BARES Y CANTINAS.  \n",
       "6             RESTAURANTES, BARES Y CANTINAS.  \n",
       "7             RESTAURANTES, BARES Y CANTINAS.  \n",
       "8             RESTAURANTES, BARES Y CANTINAS.  \n",
       "9             RESTAURANTES, BARES Y CANTINAS.  \n",
       "10            RESTAURANTES, BARES Y CANTINAS.  \n",
       "11            RESTAURANTES, BARES Y CANTINAS.  \n",
       "12            RESTAURANTES, BARES Y CANTINAS.  \n",
       "13            RESTAURANTES, BARES Y CANTINAS.  \n",
       "14            RESTAURANTES, BARES Y CANTINAS.  \n",
       "15            RESTAURANTES, BARES Y CANTINAS.  \n",
       "16            RESTAURANTES, BARES Y CANTINAS.  \n",
       "17            RESTAURANTES, BARES Y CANTINAS.  \n",
       "18            RESTAURANTES, BARES Y CANTINAS.  \n",
       "19            RESTAURANTES, BARES Y CANTINAS.  \n",
       "20            RESTAURANTES, BARES Y CANTINAS.  \n",
       "21            RESTAURANTES, BARES Y CANTINAS.  \n",
       "22            RESTAURANTES, BARES Y CANTINAS.  \n",
       "23            RESTAURANTES, BARES Y CANTINAS.  \n",
       "24            RESTAURANTES, BARES Y CANTINAS.  \n",
       "25            RESTAURANTES, BARES Y CANTINAS.  \n",
       "26            RESTAURANTES, BARES Y CANTINAS.  \n",
       "27            RESTAURANTES, BARES Y CANTINAS.  \n",
       "28            RESTAURANTES, BARES Y CANTINAS.  \n",
       "29            RESTAURANTES, BARES Y CANTINAS.  \n",
       "...                                       ...  \n",
       "1918560       RESTAURANTES, BARES Y CANTINAS.  \n",
       "1918561       RESTAURANTES, BARES Y CANTINAS.  \n",
       "1918562       RESTAURANTES, BARES Y CANTINAS.  \n",
       "1918563       RESTAURANTES, BARES Y CANTINAS.  \n",
       "1918564  AGENCIAS DE VIAJES Y GUIAS TURISTIC.  \n",
       "1918565  AGENCIAS DE VIAJES Y GUIAS TURISTIC.  \n",
       "1918566  AGENCIAS DE VIAJES Y GUIAS TURISTIC.  \n",
       "1918567  AGENCIAS DE VIAJES Y GUIAS TURISTIC.  \n",
       "1918568   OTRAS ACTIV.RELAC. CON SALUD HUMANA  \n",
       "1918569   OTRAS ACTIV.RELAC. CON SALUD HUMANA  \n",
       "1918570  AGENCIAS DE VIAJES Y GUIAS TURISTIC.  \n",
       "1918571  AGENCIAS DE VIAJES Y GUIAS TURISTIC.  \n",
       "1918572  AGENCIAS DE VIAJES Y GUIAS TURISTIC.  \n",
       "1918573  AGENCIAS DE VIAJES Y GUIAS TURISTIC.  \n",
       "1918574  AGENCIAS DE VIAJES Y GUIAS TURISTIC.  \n",
       "1918575  AGENCIAS DE VIAJES Y GUIAS TURISTIC.  \n",
       "1918576  AGENCIAS DE VIAJES Y GUIAS TURISTIC.  \n",
       "1918577  AGENCIAS DE VIAJES Y GUIAS TURISTIC.  \n",
       "1918578  AGENCIAS DE VIAJES Y GUIAS TURISTIC.  \n",
       "1918579  AGENCIAS DE VIAJES Y GUIAS TURISTIC.  \n",
       "1918580  AGENCIAS DE VIAJES Y GUIAS TURISTIC.  \n",
       "1918581  AGENCIAS DE VIAJES Y GUIAS TURISTIC.  \n",
       "1918582  AGENCIAS DE VIAJES Y GUIAS TURISTIC.  \n",
       "1918583  AGENCIAS DE VIAJES Y GUIAS TURISTIC.  \n",
       "1918584  AGENCIAS DE VIAJES Y GUIAS TURISTIC.  \n",
       "1918585  AGENCIAS DE VIAJES Y GUIAS TURISTIC.  \n",
       "1918586       RESTAURANTES, BARES Y CANTINAS.  \n",
       "1918587       RESTAURANTES, BARES Y CANTINAS.  \n",
       "1918588       RESTAURANTES, BARES Y CANTINAS.  \n",
       "1918589    OTRAS ACTIVID.ENTRETENIMIENTO NCP.  \n",
       "\n",
       "[1918590 rows x 24 columns]>"
      ]
     },
     "execution_count": 29,
     "metadata": {},
     "output_type": "execute_result"
    }
   ],
   "source": [
    "MD_Factura.head"
   ]
  },
  {
   "cell_type": "code",
   "execution_count": 30,
   "metadata": {},
   "outputs": [
    {
     "data": {
      "text/plain": [
       "28"
      ]
     },
     "execution_count": 30,
     "metadata": {},
     "output_type": "execute_result"
    }
   ],
   "source": [
    "del cabecera\n",
    "import gc\n",
    "gc.collect()"
   ]
  },
  {
   "cell_type": "code",
   "execution_count": 31,
   "metadata": {},
   "outputs": [
    {
     "name": "stdout",
     "output_type": "stream",
     "text": [
      "CPU times: user 5.17 s, sys: 337 ms, total: 5.51 s\n",
      "Wall time: 5.5 s\n"
     ]
    }
   ],
   "source": [
    "%%time\n",
    "MD_Factura['llave'] = MD_Factura['COD_TIPOCOMP'].astype(str) + \"_\" + MD_Factura['NUM_RUC'].astype(str) + \"_\" + MD_Factura['NUM_SERIECPE'] + \"_\" + MD_Factura['NUM_CPE'].astype(str)\n",
    "# MD_Factura['llave'] = MD_Factura.apply(lambda x: str(x.COD_TIPOCOMP) + '_' + str(x.NUM_RUC) + '_' + str(x.NUM_SERIECPE) + '_' + str(x.NUM_CPE),axis=1)"
   ]
  },
  {
   "cell_type": "code",
   "execution_count": 32,
   "metadata": {
    "scrolled": true
   },
   "outputs": [
    {
     "name": "stdout",
     "output_type": "stream",
     "text": [
      "CPU times: user 1.61 s, sys: 3.97 ms, total: 1.62 s\n",
      "Wall time: 1.61 s\n"
     ]
    }
   ],
   "source": [
    "%%time\n",
    "# MD_Factura.NUM_RUC = str(MD_Factura.NUM_RUC).strip()\n",
    "MD_Factura.NUM_DOCIDENTI = MD_Factura.NUM_DOCIDENTI.str.strip()"
   ]
  },
  {
   "cell_type": "code",
   "execution_count": 33,
   "metadata": {},
   "outputs": [
    {
     "data": {
      "text/plain": [
       "(1918590, 25)"
      ]
     },
     "execution_count": 33,
     "metadata": {},
     "output_type": "execute_result"
    }
   ],
   "source": [
    "MD_Factura.shape"
   ]
  },
  {
   "cell_type": "code",
   "execution_count": 34,
   "metadata": {},
   "outputs": [
    {
     "name": "stdout",
     "output_type": "stream",
     "text": [
      "CPU times: user 1.75 s, sys: 622 ms, total: 2.38 s\n",
      "Wall time: 2.37 s\n"
     ]
    }
   ],
   "source": [
    "%%time\n",
    "MD_Factura = MD_Factura[MD_Factura.NUM_DOCIDENTI.str.len() == 11]"
   ]
  },
  {
   "cell_type": "code",
   "execution_count": 35,
   "metadata": {
    "collapsed": true
   },
   "outputs": [],
   "source": [
    "# %%time\n",
    "# MD_Factura['aux1'] = MD_Factura.NUM_DOCIDENTI.apply(lambda x: len(x))\n",
    "# MD_Factura = MD_Factura[MD_Factura.aux1==11]"
   ]
  },
  {
   "cell_type": "code",
   "execution_count": 36,
   "metadata": {},
   "outputs": [
    {
     "data": {
      "text/plain": [
       "(1804436, 25)"
      ]
     },
     "execution_count": 36,
     "metadata": {},
     "output_type": "execute_result"
    }
   ],
   "source": [
    "MD_Factura.shape"
   ]
  },
  {
   "cell_type": "code",
   "execution_count": 37,
   "metadata": {
    "collapsed": true
   },
   "outputs": [],
   "source": [
    "# %%time\n",
    "# MD_Factura['aux2'] = MD_Factura.NUM_DOCIDENTI.str.slice(0,2)"
   ]
  },
  {
   "cell_type": "code",
   "execution_count": 38,
   "metadata": {
    "collapsed": true
   },
   "outputs": [],
   "source": [
    "# %%time\n",
    "# MD_Factura = pd.concat([MD_Factura[MD_Factura.aux2 == '10'], MD_Factura[MD_Factura.aux2 == '20']])\n",
    "# MD_Factura.shape"
   ]
  },
  {
   "cell_type": "code",
   "execution_count": 39,
   "metadata": {},
   "outputs": [
    {
     "name": "stdout",
     "output_type": "stream",
     "text": [
      "CPU times: user 2.04 s, sys: 140 ms, total: 2.18 s\n",
      "Wall time: 2.18 s\n"
     ]
    }
   ],
   "source": [
    "%%time\n",
    "MD_Factura = MD_Factura[(MD_Factura.NUM_DOCIDENTI.str.slice(0,2)=='10') | \n",
    "                       (MD_Factura.NUM_DOCIDENTI.str.slice(0,2) == '20')]"
   ]
  },
  {
   "cell_type": "code",
   "execution_count": 40,
   "metadata": {
    "collapsed": true
   },
   "outputs": [],
   "source": [
    "ficha_ruc = pd.read_csv(\"ficha_ruc.csv\", sep = \",\", encoding = \"ISO-8859-1\", low_memory=False)\n",
    "# ficha_ruc.ruc = ficha_ruc.ruc.astype(int)"
   ]
  },
  {
   "cell_type": "code",
   "execution_count": 41,
   "metadata": {
    "collapsed": true
   },
   "outputs": [],
   "source": [
    "ficha_ruc.to_parquet(\"ficha_ruc.parquet\")\n"
   ]
  },
  {
   "cell_type": "code",
   "execution_count": 42,
   "metadata": {},
   "outputs": [
    {
     "data": {
      "text/plain": [
       "(4873322, 12)"
      ]
     },
     "execution_count": 42,
     "metadata": {},
     "output_type": "execute_result"
    }
   ],
   "source": [
    "ficha_ruc = pd.read_parquet('ficha_ruc.parquet')\n",
    "ficha_ruc.shape"
   ]
  },
  {
   "cell_type": "code",
   "execution_count": 43,
   "metadata": {},
   "outputs": [
    {
     "data": {
      "text/plain": [
       "(1796774, 25)"
      ]
     },
     "execution_count": 43,
     "metadata": {},
     "output_type": "execute_result"
    }
   ],
   "source": [
    "MD_Factura = MD_Factura[MD_Factura.NUM_DOCIDENTI.str.match('\\d{11}')]\n",
    "MD_Factura.shape"
   ]
  },
  {
   "cell_type": "code",
   "execution_count": 44,
   "metadata": {
    "collapsed": true
   },
   "outputs": [],
   "source": [
    "MD_Factura.NUM_DOCIDENTI = MD_Factura.NUM_DOCIDENTI.astype(int)"
   ]
  },
  {
   "cell_type": "code",
   "execution_count": 45,
   "metadata": {},
   "outputs": [
    {
     "data": {
      "text/plain": [
       "(1796774, 25)"
      ]
     },
     "execution_count": 45,
     "metadata": {},
     "output_type": "execute_result"
    }
   ],
   "source": [
    "MD_Factura.shape"
   ]
  },
  {
   "cell_type": "code",
   "execution_count": 46,
   "metadata": {
    "collapsed": true
   },
   "outputs": [],
   "source": [
    "MD_Factura = pd.merge(MD_Factura,ficha_ruc, how='inner', left_on='NUM_DOCIDENTI', right_on='ruc')"
   ]
  },
  {
   "cell_type": "code",
   "execution_count": 47,
   "metadata": {},
   "outputs": [
    {
     "data": {
      "text/plain": [
       "14"
      ]
     },
     "execution_count": 47,
     "metadata": {},
     "output_type": "execute_result"
    }
   ],
   "source": [
    "del ficha_ruc\n",
    "gc.collect()"
   ]
  },
  {
   "cell_type": "code",
   "execution_count": 49,
   "metadata": {},
   "outputs": [
    {
     "data": {
      "text/html": [
       "<div>\n",
       "<style scoped>\n",
       "    .dataframe tbody tr th:only-of-type {\n",
       "        vertical-align: middle;\n",
       "    }\n",
       "\n",
       "    .dataframe tbody tr th {\n",
       "        vertical-align: top;\n",
       "    }\n",
       "\n",
       "    .dataframe thead th {\n",
       "        text-align: right;\n",
       "    }\n",
       "</style>\n",
       "<table border=\"1\" class=\"dataframe\">\n",
       "  <thead>\n",
       "    <tr style=\"text-align: right;\">\n",
       "      <th></th>\n",
       "      <th>COD_TIPOCOMP</th>\n",
       "      <th>NUM_RUC</th>\n",
       "      <th>NUM_SERIECPE</th>\n",
       "      <th>NUM_CPE</th>\n",
       "      <th>NUM_DOCIDENTI</th>\n",
       "      <th>COD_MON</th>\n",
       "      <th>MTO_IMPCPE</th>\n",
       "      <th>MTO_IGVCPE</th>\n",
       "      <th>FEC_EMICPE</th>\n",
       "      <th>EMISOR</th>\n",
       "      <th>...</th>\n",
       "      <th>act_principal</th>\n",
       "      <th>act_secun1</th>\n",
       "      <th>act_secun2</th>\n",
       "      <th>razon_social</th>\n",
       "      <th>ubigeo</th>\n",
       "      <th>cond_domicilio</th>\n",
       "      <th>condicion</th>\n",
       "      <th>estado</th>\n",
       "      <th>tipo_emp</th>\n",
       "      <th>regimen</th>\n",
       "    </tr>\n",
       "  </thead>\n",
       "  <tbody>\n",
       "    <tr>\n",
       "      <th>0</th>\n",
       "      <td>1</td>\n",
       "      <td>20101087647</td>\n",
       "      <td>F031</td>\n",
       "      <td>90287</td>\n",
       "      <td>20548080461</td>\n",
       "      <td>PEN</td>\n",
       "      <td>7.39</td>\n",
       "      <td>1.33</td>\n",
       "      <td>2018-09-04 00:00:00</td>\n",
       "      <td>20101087647</td>\n",
       "      <td>...</td>\n",
       "      <td>ACTIVIDADES DE CONTABILIDAD</td>\n",
       "      <td>ACTIV.DE ASESORAMIENTO EMPRESARIAL\\r</td>\n",
       "      <td>None</td>\n",
       "      <td>HPG CONTADORES &amp; ASOCIADOS S.R.L.             ...</td>\n",
       "      <td>150140</td>\n",
       "      <td>ALQUILADO</td>\n",
       "      <td>HABIDO</td>\n",
       "      <td>ACTIVO</td>\n",
       "      <td>SOC.COM.RESPONS. LTDA</td>\n",
       "      <td>RÉGIMEN MYPE TRIBUTARIO</td>\n",
       "    </tr>\n",
       "    <tr>\n",
       "      <th>1</th>\n",
       "      <td>1</td>\n",
       "      <td>20101087647</td>\n",
       "      <td>F031</td>\n",
       "      <td>90277</td>\n",
       "      <td>20548080461</td>\n",
       "      <td>PEN</td>\n",
       "      <td>16.52</td>\n",
       "      <td>2.97</td>\n",
       "      <td>2018-09-03 00:00:00</td>\n",
       "      <td>20101087647</td>\n",
       "      <td>...</td>\n",
       "      <td>ACTIVIDADES DE CONTABILIDAD</td>\n",
       "      <td>ACTIV.DE ASESORAMIENTO EMPRESARIAL\\r</td>\n",
       "      <td>None</td>\n",
       "      <td>HPG CONTADORES &amp; ASOCIADOS S.R.L.             ...</td>\n",
       "      <td>150140</td>\n",
       "      <td>ALQUILADO</td>\n",
       "      <td>HABIDO</td>\n",
       "      <td>ACTIVO</td>\n",
       "      <td>SOC.COM.RESPONS. LTDA</td>\n",
       "      <td>RÉGIMEN MYPE TRIBUTARIO</td>\n",
       "    </tr>\n",
       "    <tr>\n",
       "      <th>2</th>\n",
       "      <td>1</td>\n",
       "      <td>20101087647</td>\n",
       "      <td>F339</td>\n",
       "      <td>31425</td>\n",
       "      <td>20548080461</td>\n",
       "      <td>PEN</td>\n",
       "      <td>18.18</td>\n",
       "      <td>3.27</td>\n",
       "      <td>2018-09-01 00:00:00</td>\n",
       "      <td>20101087647</td>\n",
       "      <td>...</td>\n",
       "      <td>ACTIVIDADES DE CONTABILIDAD</td>\n",
       "      <td>ACTIV.DE ASESORAMIENTO EMPRESARIAL\\r</td>\n",
       "      <td>None</td>\n",
       "      <td>HPG CONTADORES &amp; ASOCIADOS S.R.L.             ...</td>\n",
       "      <td>150140</td>\n",
       "      <td>ALQUILADO</td>\n",
       "      <td>HABIDO</td>\n",
       "      <td>ACTIVO</td>\n",
       "      <td>SOC.COM.RESPONS. LTDA</td>\n",
       "      <td>RÉGIMEN MYPE TRIBUTARIO</td>\n",
       "    </tr>\n",
       "    <tr>\n",
       "      <th>3</th>\n",
       "      <td>1</td>\n",
       "      <td>20101087647</td>\n",
       "      <td>F031</td>\n",
       "      <td>90521</td>\n",
       "      <td>20548080461</td>\n",
       "      <td>PEN</td>\n",
       "      <td>8.21</td>\n",
       "      <td>1.48</td>\n",
       "      <td>2018-09-26 00:00:00</td>\n",
       "      <td>20101087647</td>\n",
       "      <td>...</td>\n",
       "      <td>ACTIVIDADES DE CONTABILIDAD</td>\n",
       "      <td>ACTIV.DE ASESORAMIENTO EMPRESARIAL\\r</td>\n",
       "      <td>None</td>\n",
       "      <td>HPG CONTADORES &amp; ASOCIADOS S.R.L.             ...</td>\n",
       "      <td>150140</td>\n",
       "      <td>ALQUILADO</td>\n",
       "      <td>HABIDO</td>\n",
       "      <td>ACTIVO</td>\n",
       "      <td>SOC.COM.RESPONS. LTDA</td>\n",
       "      <td>RÉGIMEN MYPE TRIBUTARIO</td>\n",
       "    </tr>\n",
       "    <tr>\n",
       "      <th>4</th>\n",
       "      <td>1</td>\n",
       "      <td>20492092313</td>\n",
       "      <td>FT11</td>\n",
       "      <td>186932</td>\n",
       "      <td>20548080461</td>\n",
       "      <td>PEN</td>\n",
       "      <td>193.96</td>\n",
       "      <td>34.91</td>\n",
       "      <td>2018-09-22 00:00:00</td>\n",
       "      <td>20492092313</td>\n",
       "      <td>...</td>\n",
       "      <td>ACTIVIDADES DE CONTABILIDAD</td>\n",
       "      <td>ACTIV.DE ASESORAMIENTO EMPRESARIAL\\r</td>\n",
       "      <td>None</td>\n",
       "      <td>HPG CONTADORES &amp; ASOCIADOS S.R.L.             ...</td>\n",
       "      <td>150140</td>\n",
       "      <td>ALQUILADO</td>\n",
       "      <td>HABIDO</td>\n",
       "      <td>ACTIVO</td>\n",
       "      <td>SOC.COM.RESPONS. LTDA</td>\n",
       "      <td>RÉGIMEN MYPE TRIBUTARIO</td>\n",
       "    </tr>\n",
       "  </tbody>\n",
       "</table>\n",
       "<p>5 rows × 37 columns</p>\n",
       "</div>"
      ],
      "text/plain": [
       "   COD_TIPOCOMP      NUM_RUC NUM_SERIECPE  NUM_CPE  NUM_DOCIDENTI COD_MON  \\\n",
       "0             1  20101087647         F031    90287    20548080461     PEN   \n",
       "1             1  20101087647         F031    90277    20548080461     PEN   \n",
       "2             1  20101087647         F339    31425    20548080461     PEN   \n",
       "3             1  20101087647         F031    90521    20548080461     PEN   \n",
       "4             1  20492092313         FT11   186932    20548080461     PEN   \n",
       "\n",
       "   MTO_IMPCPE  MTO_IGVCPE           FEC_EMICPE       EMISOR  \\\n",
       "0        7.39        1.33  2018-09-04 00:00:00  20101087647   \n",
       "1       16.52        2.97  2018-09-03 00:00:00  20101087647   \n",
       "2       18.18        3.27  2018-09-01 00:00:00  20101087647   \n",
       "3        8.21        1.48  2018-09-26 00:00:00  20101087647   \n",
       "4      193.96       34.91  2018-09-22 00:00:00  20492092313   \n",
       "\n",
       "            ...                           act_principal  \\\n",
       "0           ...             ACTIVIDADES DE CONTABILIDAD   \n",
       "1           ...             ACTIVIDADES DE CONTABILIDAD   \n",
       "2           ...             ACTIVIDADES DE CONTABILIDAD   \n",
       "3           ...             ACTIVIDADES DE CONTABILIDAD   \n",
       "4           ...             ACTIVIDADES DE CONTABILIDAD   \n",
       "\n",
       "                             act_secun1 act_secun2  \\\n",
       "0  ACTIV.DE ASESORAMIENTO EMPRESARIAL\\r       None   \n",
       "1  ACTIV.DE ASESORAMIENTO EMPRESARIAL\\r       None   \n",
       "2  ACTIV.DE ASESORAMIENTO EMPRESARIAL\\r       None   \n",
       "3  ACTIV.DE ASESORAMIENTO EMPRESARIAL\\r       None   \n",
       "4  ACTIV.DE ASESORAMIENTO EMPRESARIAL\\r       None   \n",
       "\n",
       "                                        razon_social  ubigeo cond_domicilio  \\\n",
       "0  HPG CONTADORES & ASOCIADOS S.R.L.             ...  150140      ALQUILADO   \n",
       "1  HPG CONTADORES & ASOCIADOS S.R.L.             ...  150140      ALQUILADO   \n",
       "2  HPG CONTADORES & ASOCIADOS S.R.L.             ...  150140      ALQUILADO   \n",
       "3  HPG CONTADORES & ASOCIADOS S.R.L.             ...  150140      ALQUILADO   \n",
       "4  HPG CONTADORES & ASOCIADOS S.R.L.             ...  150140      ALQUILADO   \n",
       "\n",
       "  condicion  estado               tipo_emp                  regimen  \n",
       "0    HABIDO  ACTIVO  SOC.COM.RESPONS. LTDA  RÉGIMEN MYPE TRIBUTARIO  \n",
       "1    HABIDO  ACTIVO  SOC.COM.RESPONS. LTDA  RÉGIMEN MYPE TRIBUTARIO  \n",
       "2    HABIDO  ACTIVO  SOC.COM.RESPONS. LTDA  RÉGIMEN MYPE TRIBUTARIO  \n",
       "3    HABIDO  ACTIVO  SOC.COM.RESPONS. LTDA  RÉGIMEN MYPE TRIBUTARIO  \n",
       "4    HABIDO  ACTIVO  SOC.COM.RESPONS. LTDA  RÉGIMEN MYPE TRIBUTARIO  \n",
       "\n",
       "[5 rows x 37 columns]"
      ]
     },
     "execution_count": 49,
     "metadata": {},
     "output_type": "execute_result"
    }
   ],
   "source": [
    "MD_Factura.head()"
   ]
  },
  {
   "cell_type": "code",
   "execution_count": 50,
   "metadata": {
    "collapsed": true
   },
   "outputs": [],
   "source": [
    "MD_Factura.columns = ['COD_TIPOCOMP', 'NUM_RUC', 'NUM_SERIECPE', 'NUM_CPE', 'NUM_DOCIDENTI',\n",
    "                      'COD_MON', 'MTO_IMPCPE', 'MTO_IGVCPE', 'FEC_EMICPE', 'EMISOR',\n",
    "                      'cod_act_princ_emis', 'AP_EMISOR', 'AS1_EMISOR', 'AS2_EMISOR',\n",
    "                      'nom_comercial_emis', 'RS_EMISOR', 'condicion_emis', 'estado_emis',\n",
    "                      'tipo_emp_emis', 'tamano_emis', 'cond_domicilio_emis', 'UBIGEO_EMIS',\n",
    "                      'CATEGO_OBJETIVO', 'Actividad_Economica', 'llave', 'RECEPTOR',\n",
    "                      'cod_act_princ_recep', 'AP_RECEPTOR', 'AS1_RECEPTOR', 'AS2_RECEPTOR',\n",
    "                      'RS_RECEPTOR', 'UBIGEO_RECEPTOR', 'cond_domicilio_recep', 'condicion_recep', \n",
    "                      'estado_recep', 'tipo_emp_recep', 'regimen_recep']"
   ]
  },
  {
   "cell_type": "code",
   "execution_count": 51,
   "metadata": {
    "collapsed": true
   },
   "outputs": [],
   "source": [
    "#MD_Factura.AS1_RECEPTOR.str.replace(\"\\r\", \"\")\n",
    "MD_Factura.AS1_RECEPTOR = MD_Factura.AS1_RECEPTOR.str.replace(\"\\r\", \"\")\n",
    "MD_Factura.AS2_RECEPTOR = MD_Factura.AS2_RECEPTOR.str.replace(\"\\r\", \"\")"
   ]
  },
  {
   "cell_type": "code",
   "execution_count": 52,
   "metadata": {},
   "outputs": [
    {
     "data": {
      "text/plain": [
       "(1668378, 37)"
      ]
     },
     "execution_count": 52,
     "metadata": {},
     "output_type": "execute_result"
    }
   ],
   "source": [
    "MD_Factura.shape"
   ]
  },
  {
   "cell_type": "code",
   "execution_count": 53,
   "metadata": {
    "collapsed": true
   },
   "outputs": [],
   "source": [
    "MD_Factura = MD_Factura[~MD_Factura[\"tipo_emp_recep\"].isin(['ASOCIACION', 'GOBIERNO REGIONAL, LOCAL', 'EMPRESA DE DERECHO PUBLICO',\n",
    " 'SOCIEDAD CIVIL', 'COOPERATIVAS, SAIS, CAPS', 'FUNDACION', 'INSTITUCIONES RELIGIOSAS',\n",
    " 'SOCIEDAD DE BENEFICIENCIA', 'ENT.INST.COOPERAC.TECNICA - ENIEX', 'SINDICATOS Y FEDERACIONES', \n",
    " 'JUNTA DE PROPIETARIOS', 'EMPRESA DE PROPIEDAD SOCIAL'])]"
   ]
  },
  {
   "cell_type": "code",
   "execution_count": 54,
   "metadata": {},
   "outputs": [
    {
     "name": "stderr",
     "output_type": "stream",
     "text": [
      "/data/anaconda3/lib/python3.6/site-packages/ipykernel_launcher.py:1: SettingWithCopyWarning: \n",
      "A value is trying to be set on a copy of a slice from a DataFrame.\n",
      "Try using .loc[row_indexer,col_indexer] = value instead\n",
      "\n",
      "See the caveats in the documentation: http://pandas.pydata.org/pandas-docs/stable/indexing.html#indexing-view-versus-copy\n",
      "  \"\"\"Entry point for launching an IPython kernel.\n"
     ]
    }
   ],
   "source": [
    "MD_Factura['MTO_TOTAL'] = MD_Factura.MTO_IMPCPE.astype(float) + MD_Factura.MTO_IGVCPE.astype(float)"
   ]
  },
  {
   "cell_type": "code",
   "execution_count": 55,
   "metadata": {
    "collapsed": true
   },
   "outputs": [],
   "source": [
    "MD_Factura = MD_Factura[~MD_Factura['regimen_recep'].isin([\"REGIMEN RUS\", \"REGIMEN ESPECIAL\"])]"
   ]
  },
  {
   "cell_type": "code",
   "execution_count": 56,
   "metadata": {},
   "outputs": [
    {
     "data": {
      "text/plain": [
       "(1482927, 38)"
      ]
     },
     "execution_count": 56,
     "metadata": {},
     "output_type": "execute_result"
    }
   ],
   "source": [
    "MD_Factura.shape"
   ]
  },
  {
   "cell_type": "code",
   "execution_count": 57,
   "metadata": {
    "collapsed": true
   },
   "outputs": [],
   "source": [
    "auxiliar = MD_Factura[(MD_Factura.AP_EMISOR != MD_Factura.AP_RECEPTOR) & \n",
    "                      (MD_Factura.AP_EMISOR != MD_Factura.AS1_EMISOR) & \n",
    "                      (MD_Factura.AP_EMISOR != MD_Factura.AS2_EMISOR) & \n",
    "                      (MD_Factura.AS1_EMISOR != MD_Factura.AP_RECEPTOR) & \n",
    "                      (MD_Factura.AS1_EMISOR != MD_Factura.AS1_EMISOR) & \n",
    "                      (MD_Factura.AS1_EMISOR != MD_Factura.AS2_EMISOR) & \n",
    "                      (MD_Factura.AS2_EMISOR != MD_Factura.AP_RECEPTOR) & \n",
    "                      (MD_Factura.AS2_EMISOR != MD_Factura.AS1_EMISOR) & \n",
    "                      (MD_Factura.AS2_EMISOR != MD_Factura.AS2_EMISOR)]"
   ]
  },
  {
   "cell_type": "code",
   "execution_count": 58,
   "metadata": {},
   "outputs": [
    {
     "data": {
      "text/plain": [
       "(696225, 38)"
      ]
     },
     "execution_count": 58,
     "metadata": {},
     "output_type": "execute_result"
    }
   ],
   "source": [
    "auxiliar.shape"
   ]
  },
  {
   "cell_type": "code",
   "execution_count": 59,
   "metadata": {
    "collapsed": true
   },
   "outputs": [],
   "source": [
    "ciu1 = [\"PLANES DE SEGUROS DE VIDA\", \"PLANES DE SEGUROS GENERALES\", \"ACTIV. FINANC. PLANES SEGUROS Y PENS.\",\n",
    "        \"OTRAS ACTIV.RELAC. CON SALUD HUMANA\", \"ACTIVIDADES DE HOSPITALES\", \"RESTAURANTES, BARES Y CANTINAS.\", \n",
    "        \"ACTIVIDADES DE MEDICOS Y ODONTOLOGO\", \"AGENCIAS DE VIAJES Y GUIAS TURISTIC.\", \"ACABADO DE PROD. TEXTILES.\", \n",
    "        \"HOTELES, CAMPAMENTOS Y OTROS.\", \"VTA. MAY. PRODUCTOS TEXTILES.\", \"FAB. OTROS PROD. TEXTILES NEOP.\", \n",
    "        \"VTA. MIN. PRODUCTOS TEXTILES, CALZADO.\", \"VTA. MIN. ALIMENTOS, BEBIDAS, TABACO.\", \"VTA. MIN. EN ALMACENES NO ESPECIALIZ.\",\n",
    "        \"VTA. MIN. OTROS PRODUCTOS EN ALMACEN.\", \"VTA. MIN. EN PUESTOS DE VENTA.\", \"VTA. MAY. ALIMENTOS, BEBIDAS Y TABACO.\", \n",
    "        \"FAB. DE PRENDAS DE VESTIR.\"]\n",
    "vec1 = [[\"ACTIVIDADES DE HOSPITALES\", \"OTRAS ACTIV.RELAC. CON SALUD HUMANA\", \"ACTIVIDADES DE MEDICOS Y ODONTOLOGO\"], \n",
    "         [\"ACTIVIDADES DE HOSPITALES\", \"OTRAS ACTIV.RELAC. CON SALUD HUMANA\", \"ACTIVIDADES DE MEDICOS Y ODONTOLOGO\"],\n",
    "         [\"ACTIVIDADES DE HOSPITALES\", \"OTRAS ACTIV.RELAC. CON SALUD HUMANA\", \"ACTIVIDADES DE MEDICOS Y ODONTOLOGO\"], \n",
    "         [\"ACTIVIDADES DE HOSPITALES\", \"OTRAS ACTIV.RELAC. CON SALUD HUMANA\", \"ACTIVIDADES DE MEDICOS Y ODONTOLOGO\"], \n",
    "         [\"ACTIVIDADES DE HOSPITALES\", \"OTRAS ACTIV.RELAC. CON SALUD HUMANA\", \"ACTIVIDADES DE MEDICOS Y ODONTOLOGO\"], \n",
    "         [\"VTA. MIN. OTROS PRODUCTOS EN ALMACEN.\", \"VTA. MIN. EN ALMACENES NO ESPECIALIZ.\", \"VTA. MAY. DE OTROS PRODUCTOS.\", \"OTROS TIPOS DE VENTA AL POR MENOR.\"], \n",
    "         [\"ACTIVIDADES DE HOSPITALES\", \"OTRAS ACTIV.RELAC. CON SALUD HUMANA\", \"ACTIVIDADES DE MEDICOS Y ODONTOLOGO\"], \n",
    "         [\"RESTAURANTES, BARES Y CANTINAS.\", \"HOTELES, CAMPAMENTOS Y OTROS.\", \"OTRAS ACTIVID.ENTRETENIMIENTO NCP.\", \"ACTIV.TEATRALES, MUSICALES Y OTRAS.\", \"OTRAS ACTIVIDADES DE ESPARCIMIENTO\"], \n",
    "         [\"FAB. DE PRENDAS DE VESTIR.\", \"VTA. MIN. PRODUCTOS TEXTILES, CALZADO.\", \"FAB. DE ARTICULOS DE PIEL.\"], \n",
    "         [\"VTA. MAY. DE OTROS PRODUCTOS.\", \"RESTAURANTES, BARES Y CANTINAS.\", \"AGENCIAS DE VIAJES Y GUIAS TURISTIC.\", \"VTA. MAY. PRODUCTOS TEXTILES.\", \"ACTIV.TEATRALES, MUSICALES Y OTRAS.\", \"VTA. MIN. EN ALMACENES NO ESPECIALIZ.\"], \n",
    "         [\"FAB. TEJIDOS Y ART DE PUNTO.\", \"VTA. MAY. PRODUCTOS TEXTILES.\"], \n",
    "         [\"VTA. MIN. PRODUCTOS TEXTILES, CALZADO.\", \"VTA. MAY. PRODUCTOS TEXTILES.\", \"FAB. TEJIDOS Y ART DE PUNTO.\"],\n",
    "         [\"FAB. TEJIDOS Y ART DE PUNTO.\", \"VTA. MAY. PRODUCTOS TEXTILES.\", \"FAB. DE CALZADO.\"], \n",
    "         [\"VTA. MAY. DE OTROS PRODUCTOS.\"],\n",
    "         [\"VTA. MAY. DE OTROS PRODUCTOS.\"],\n",
    "         [\"VTA. MAY. DE OTROS PRODUCTOS.\"],\n",
    "         [\"VTA. MAY. DE OTROS PRODUCTOS.\"], \n",
    "         [\"VTA. MAY. DE OTROS PRODUCTOS.\"],\n",
    "         [\"VTA. MIN. PRODUCTOS TEXTILES, CALZADO.\", \"VTA. MAY. PRODUCTOS TEXTILES.\", \"FAB. TEJIDOS Y ART DE PUNTO.\"]]"
   ]
  },
  {
   "cell_type": "code",
   "execution_count": 60,
   "metadata": {
    "collapsed": true
   },
   "outputs": [],
   "source": [
    "conditions = [\n",
    "    (auxiliar['AP_RECEPTOR'].isin(ciu1)) | (auxiliar['AS1_RECEPTOR'].isin(ciu1)) | (auxiliar['AS2_RECEPTOR'].isin(ciu1))]\n",
    "choices = [1]"
   ]
  },
  {
   "cell_type": "code",
   "execution_count": 61,
   "metadata": {},
   "outputs": [
    {
     "name": "stderr",
     "output_type": "stream",
     "text": [
      "/data/anaconda3/lib/python3.6/site-packages/pandas/core/indexing.py:362: SettingWithCopyWarning: \n",
      "A value is trying to be set on a copy of a slice from a DataFrame.\n",
      "Try using .loc[row_indexer,col_indexer] = value instead\n",
      "\n",
      "See the caveats in the documentation: http://pandas.pydata.org/pandas-docs/stable/indexing.html#indexing-view-versus-copy\n",
      "  self.obj[key] = _infer_fill_value(value)\n",
      "/data/anaconda3/lib/python3.6/site-packages/pandas/core/indexing.py:543: SettingWithCopyWarning: \n",
      "A value is trying to be set on a copy of a slice from a DataFrame.\n",
      "Try using .loc[row_indexer,col_indexer] = value instead\n",
      "\n",
      "See the caveats in the documentation: http://pandas.pydata.org/pandas-docs/stable/indexing.html#indexing-view-versus-copy\n",
      "  self.obj[item] = s\n"
     ]
    }
   ],
   "source": [
    "auxiliar.loc[:, 'aux'] = np.select(conditions, choices, default=0)"
   ]
  },
  {
   "cell_type": "code",
   "execution_count": 62,
   "metadata": {
    "collapsed": true
   },
   "outputs": [],
   "source": [
    "auxiliar0 = auxiliar[auxiliar.aux == 0]\n",
    "auxiliar1 = auxiliar[auxiliar.aux == 1]"
   ]
  },
  {
   "cell_type": "code",
   "execution_count": 63,
   "metadata": {},
   "outputs": [
    {
     "data": {
      "text/plain": [
       "(1482927, 38)"
      ]
     },
     "execution_count": 63,
     "metadata": {},
     "output_type": "execute_result"
    }
   ],
   "source": [
    "MD_Factura.shape"
   ]
  },
  {
   "cell_type": "code",
   "execution_count": 64,
   "metadata": {
    "collapsed": true
   },
   "outputs": [],
   "source": [
    "auxiliar2 = auxiliar1.copy()"
   ]
  },
  {
   "cell_type": "code",
   "execution_count": 65,
   "metadata": {
    "collapsed": true
   },
   "outputs": [],
   "source": [
    "for i in range(0,len(ciu1)):\n",
    "    auxiliar2 = auxiliar2[~(((auxiliar2['AP_RECEPTOR']==ciu1[i]) | \n",
    "                       (auxiliar2['AS1_RECEPTOR']==ciu1[i]) | \n",
    "                       (auxiliar2['AS1_RECEPTOR']==ciu1[i])) &\n",
    "                     ((auxiliar2['AP_EMISOR'].isin(vec1[i])) | \n",
    "                      (auxiliar2['AS1_EMISOR'].isin(vec1[i])) | \n",
    "                      (auxiliar2['AS2_EMISOR'].isin(vec1[i]))))]"
   ]
  },
  {
   "cell_type": "code",
   "execution_count": 66,
   "metadata": {
    "collapsed": true
   },
   "outputs": [],
   "source": [
    "MD_Factura = pd.concat([auxiliar0, auxiliar2])"
   ]
  },
  {
   "cell_type": "code",
   "execution_count": 67,
   "metadata": {
    "collapsed": true
   },
   "outputs": [],
   "source": [
    "from datetime import datetime, date, time\n",
    "#MD_Factura.FEC_EMICPE.apply(lambda x:)\n",
    "#datetime.strptime(MD_Factura.FEC_EMICPE[1], \"%Y-%m-%d %H:%M:%S\").year"
   ]
  },
  {
   "cell_type": "code",
   "execution_count": 68,
   "metadata": {},
   "outputs": [
    {
     "name": "stdout",
     "output_type": "stream",
     "text": [
      "CPU times: user 13.9 s, sys: 4.63 ms, total: 13.9 s\n",
      "Wall time: 13.9 s\n"
     ]
    }
   ],
   "source": [
    "%%time\n",
    "MD_Factura['dia_semana'] = MD_Factura.FEC_EMICPE.map(lambda x: datetime.strptime(x, \"%Y-%m-%d %H:%M:%S\").isoweekday())\n",
    "MD_Factura['dia_mes'] = MD_Factura.FEC_EMICPE.map(lambda x: datetime.strptime(x, \"%Y-%m-%d %H:%M:%S\").day)"
   ]
  },
  {
   "cell_type": "code",
   "execution_count": 69,
   "metadata": {},
   "outputs": [
    {
     "data": {
      "text/html": [
       "<div>\n",
       "<style scoped>\n",
       "    .dataframe tbody tr th:only-of-type {\n",
       "        vertical-align: middle;\n",
       "    }\n",
       "\n",
       "    .dataframe tbody tr th {\n",
       "        vertical-align: top;\n",
       "    }\n",
       "\n",
       "    .dataframe thead th {\n",
       "        text-align: right;\n",
       "    }\n",
       "</style>\n",
       "<table border=\"1\" class=\"dataframe\">\n",
       "  <thead>\n",
       "    <tr style=\"text-align: right;\">\n",
       "      <th></th>\n",
       "      <th>COD_TIPOCOMP</th>\n",
       "      <th>NUM_RUC</th>\n",
       "      <th>NUM_SERIECPE</th>\n",
       "      <th>NUM_CPE</th>\n",
       "      <th>NUM_DOCIDENTI</th>\n",
       "      <th>COD_MON</th>\n",
       "      <th>MTO_IMPCPE</th>\n",
       "      <th>MTO_IGVCPE</th>\n",
       "      <th>FEC_EMICPE</th>\n",
       "      <th>EMISOR</th>\n",
       "      <th>...</th>\n",
       "      <th>UBIGEO_RECEPTOR</th>\n",
       "      <th>cond_domicilio_recep</th>\n",
       "      <th>condicion_recep</th>\n",
       "      <th>estado_recep</th>\n",
       "      <th>tipo_emp_recep</th>\n",
       "      <th>regimen_recep</th>\n",
       "      <th>MTO_TOTAL</th>\n",
       "      <th>aux</th>\n",
       "      <th>dia_semana</th>\n",
       "      <th>dia_mes</th>\n",
       "    </tr>\n",
       "  </thead>\n",
       "  <tbody>\n",
       "    <tr>\n",
       "      <th>0</th>\n",
       "      <td>1</td>\n",
       "      <td>20101087647</td>\n",
       "      <td>F031</td>\n",
       "      <td>90287</td>\n",
       "      <td>20548080461</td>\n",
       "      <td>PEN</td>\n",
       "      <td>7.39</td>\n",
       "      <td>1.33</td>\n",
       "      <td>2018-09-04 00:00:00</td>\n",
       "      <td>20101087647</td>\n",
       "      <td>...</td>\n",
       "      <td>150140</td>\n",
       "      <td>ALQUILADO</td>\n",
       "      <td>HABIDO</td>\n",
       "      <td>ACTIVO</td>\n",
       "      <td>SOC.COM.RESPONS. LTDA</td>\n",
       "      <td>RÉGIMEN MYPE TRIBUTARIO</td>\n",
       "      <td>8.72</td>\n",
       "      <td>0</td>\n",
       "      <td>2</td>\n",
       "      <td>4</td>\n",
       "    </tr>\n",
       "    <tr>\n",
       "      <th>1</th>\n",
       "      <td>1</td>\n",
       "      <td>20101087647</td>\n",
       "      <td>F031</td>\n",
       "      <td>90277</td>\n",
       "      <td>20548080461</td>\n",
       "      <td>PEN</td>\n",
       "      <td>16.52</td>\n",
       "      <td>2.97</td>\n",
       "      <td>2018-09-03 00:00:00</td>\n",
       "      <td>20101087647</td>\n",
       "      <td>...</td>\n",
       "      <td>150140</td>\n",
       "      <td>ALQUILADO</td>\n",
       "      <td>HABIDO</td>\n",
       "      <td>ACTIVO</td>\n",
       "      <td>SOC.COM.RESPONS. LTDA</td>\n",
       "      <td>RÉGIMEN MYPE TRIBUTARIO</td>\n",
       "      <td>19.49</td>\n",
       "      <td>0</td>\n",
       "      <td>1</td>\n",
       "      <td>3</td>\n",
       "    </tr>\n",
       "    <tr>\n",
       "      <th>2</th>\n",
       "      <td>1</td>\n",
       "      <td>20101087647</td>\n",
       "      <td>F339</td>\n",
       "      <td>31425</td>\n",
       "      <td>20548080461</td>\n",
       "      <td>PEN</td>\n",
       "      <td>18.18</td>\n",
       "      <td>3.27</td>\n",
       "      <td>2018-09-01 00:00:00</td>\n",
       "      <td>20101087647</td>\n",
       "      <td>...</td>\n",
       "      <td>150140</td>\n",
       "      <td>ALQUILADO</td>\n",
       "      <td>HABIDO</td>\n",
       "      <td>ACTIVO</td>\n",
       "      <td>SOC.COM.RESPONS. LTDA</td>\n",
       "      <td>RÉGIMEN MYPE TRIBUTARIO</td>\n",
       "      <td>21.45</td>\n",
       "      <td>0</td>\n",
       "      <td>6</td>\n",
       "      <td>1</td>\n",
       "    </tr>\n",
       "    <tr>\n",
       "      <th>3</th>\n",
       "      <td>1</td>\n",
       "      <td>20101087647</td>\n",
       "      <td>F031</td>\n",
       "      <td>90521</td>\n",
       "      <td>20548080461</td>\n",
       "      <td>PEN</td>\n",
       "      <td>8.21</td>\n",
       "      <td>1.48</td>\n",
       "      <td>2018-09-26 00:00:00</td>\n",
       "      <td>20101087647</td>\n",
       "      <td>...</td>\n",
       "      <td>150140</td>\n",
       "      <td>ALQUILADO</td>\n",
       "      <td>HABIDO</td>\n",
       "      <td>ACTIVO</td>\n",
       "      <td>SOC.COM.RESPONS. LTDA</td>\n",
       "      <td>RÉGIMEN MYPE TRIBUTARIO</td>\n",
       "      <td>9.69</td>\n",
       "      <td>0</td>\n",
       "      <td>3</td>\n",
       "      <td>26</td>\n",
       "    </tr>\n",
       "    <tr>\n",
       "      <th>4</th>\n",
       "      <td>1</td>\n",
       "      <td>20492092313</td>\n",
       "      <td>FT11</td>\n",
       "      <td>186932</td>\n",
       "      <td>20548080461</td>\n",
       "      <td>PEN</td>\n",
       "      <td>193.96</td>\n",
       "      <td>34.91</td>\n",
       "      <td>2018-09-22 00:00:00</td>\n",
       "      <td>20492092313</td>\n",
       "      <td>...</td>\n",
       "      <td>150140</td>\n",
       "      <td>ALQUILADO</td>\n",
       "      <td>HABIDO</td>\n",
       "      <td>ACTIVO</td>\n",
       "      <td>SOC.COM.RESPONS. LTDA</td>\n",
       "      <td>RÉGIMEN MYPE TRIBUTARIO</td>\n",
       "      <td>228.87</td>\n",
       "      <td>0</td>\n",
       "      <td>6</td>\n",
       "      <td>22</td>\n",
       "    </tr>\n",
       "  </tbody>\n",
       "</table>\n",
       "<p>5 rows × 41 columns</p>\n",
       "</div>"
      ],
      "text/plain": [
       "   COD_TIPOCOMP      NUM_RUC NUM_SERIECPE  NUM_CPE  NUM_DOCIDENTI COD_MON  \\\n",
       "0             1  20101087647         F031    90287    20548080461     PEN   \n",
       "1             1  20101087647         F031    90277    20548080461     PEN   \n",
       "2             1  20101087647         F339    31425    20548080461     PEN   \n",
       "3             1  20101087647         F031    90521    20548080461     PEN   \n",
       "4             1  20492092313         FT11   186932    20548080461     PEN   \n",
       "\n",
       "   MTO_IMPCPE  MTO_IGVCPE           FEC_EMICPE       EMISOR   ...    \\\n",
       "0        7.39        1.33  2018-09-04 00:00:00  20101087647   ...     \n",
       "1       16.52        2.97  2018-09-03 00:00:00  20101087647   ...     \n",
       "2       18.18        3.27  2018-09-01 00:00:00  20101087647   ...     \n",
       "3        8.21        1.48  2018-09-26 00:00:00  20101087647   ...     \n",
       "4      193.96       34.91  2018-09-22 00:00:00  20492092313   ...     \n",
       "\n",
       "   UBIGEO_RECEPTOR cond_domicilio_recep condicion_recep estado_recep  \\\n",
       "0           150140            ALQUILADO          HABIDO       ACTIVO   \n",
       "1           150140            ALQUILADO          HABIDO       ACTIVO   \n",
       "2           150140            ALQUILADO          HABIDO       ACTIVO   \n",
       "3           150140            ALQUILADO          HABIDO       ACTIVO   \n",
       "4           150140            ALQUILADO          HABIDO       ACTIVO   \n",
       "\n",
       "          tipo_emp_recep            regimen_recep MTO_TOTAL aux dia_semana  \\\n",
       "0  SOC.COM.RESPONS. LTDA  RÉGIMEN MYPE TRIBUTARIO      8.72   0          2   \n",
       "1  SOC.COM.RESPONS. LTDA  RÉGIMEN MYPE TRIBUTARIO     19.49   0          1   \n",
       "2  SOC.COM.RESPONS. LTDA  RÉGIMEN MYPE TRIBUTARIO     21.45   0          6   \n",
       "3  SOC.COM.RESPONS. LTDA  RÉGIMEN MYPE TRIBUTARIO      9.69   0          3   \n",
       "4  SOC.COM.RESPONS. LTDA  RÉGIMEN MYPE TRIBUTARIO    228.87   0          6   \n",
       "\n",
       "  dia_mes  \n",
       "0       4  \n",
       "1       3  \n",
       "2       1  \n",
       "3      26  \n",
       "4      22  \n",
       "\n",
       "[5 rows x 41 columns]"
      ]
     },
     "execution_count": 69,
     "metadata": {},
     "output_type": "execute_result"
    }
   ],
   "source": [
    "MD_Factura.head()"
   ]
  },
  {
   "cell_type": "code",
   "execution_count": 70,
   "metadata": {},
   "outputs": [
    {
     "data": {
      "text/plain": [
       "42"
      ]
     },
     "execution_count": 70,
     "metadata": {},
     "output_type": "execute_result"
    }
   ],
   "source": [
    "import gc\n",
    "del MD_Factura['COD_TIPOCOMP'] \n",
    "del MD_Factura['NUM_RUC'] \n",
    "del MD_Factura['NUM_SERIECPE'] \n",
    "del MD_Factura['NUM_CPE'] \n",
    "del MD_Factura['aux'] \n",
    "gc.collect()"
   ]
  },
  {
   "cell_type": "code",
   "execution_count": 71,
   "metadata": {
    "collapsed": true
   },
   "outputs": [],
   "source": [
    "CPEjoin = pd.merge(MD_Factura, detalle, on = 'llave')"
   ]
  },
  {
   "cell_type": "code",
   "execution_count": 72,
   "metadata": {},
   "outputs": [
    {
     "data": {
      "text/plain": [
       "(1719989, 37)"
      ]
     },
     "execution_count": 72,
     "metadata": {},
     "output_type": "execute_result"
    }
   ],
   "source": [
    "CPEjoin.shape"
   ]
  },
  {
   "cell_type": "code",
   "execution_count": 73,
   "metadata": {},
   "outputs": [
    {
     "data": {
      "text/plain": [
       "Series([], Name: DES_DETITM, dtype: object)"
      ]
     },
     "execution_count": 73,
     "metadata": {},
     "output_type": "execute_result"
    }
   ],
   "source": [
    "CPEjoin[\"DES_DETITM\"][CPEjoin[\"llave\"] == \"1_10266169669_F010_5547\"].head()"
   ]
  },
  {
   "cell_type": "code",
   "execution_count": 74,
   "metadata": {},
   "outputs": [
    {
     "data": {
      "text/plain": [
       "(501410,)"
      ]
     },
     "execution_count": 74,
     "metadata": {},
     "output_type": "execute_result"
    }
   ],
   "source": [
    "CPEjoin.llave.unique().shape"
   ]
  },
  {
   "cell_type": "code",
   "execution_count": 75,
   "metadata": {
    "collapsed": true
   },
   "outputs": [],
   "source": [
    "#Llaves = CPEjoin.groupby(['llave','AP_RECEPTOR', 'AS1_RECEPTOR', 'AS2_RECEPTOR']).apply(lambda x: ' '.join(x['DES_DETITM']))\n",
    "#Llaves = CPEjoin.groupby(['llave','AP_RECEPTOR', 'AS1_RECEPTOR', 'AS2_RECEPTOR']).agg({'DES_DETITM': lambda x: ' '.join(x)})\n",
    "Llaves = CPEjoin.groupby(['llave']).agg({'DES_DETITM' : lambda x: ' '.join(x),\n",
    "                                         'AP_RECEPTOR': lambda x: x.unique(),\n",
    "                                         'AS1_RECEPTOR': lambda x: x.unique(),\n",
    "                                         'AS2_RECEPTOR': lambda x: x.unique()})\n",
    "Llaves = Llaves.reset_index()"
   ]
  },
  {
   "cell_type": "code",
   "execution_count": 76,
   "metadata": {},
   "outputs": [
    {
     "data": {
      "text/plain": [
       "(501410, 5)"
      ]
     },
     "execution_count": 76,
     "metadata": {},
     "output_type": "execute_result"
    }
   ],
   "source": [
    "Llaves.shape"
   ]
  },
  {
   "cell_type": "code",
   "execution_count": 77,
   "metadata": {},
   "outputs": [
    {
     "data": {
      "text/plain": [
       "Index(['llave', 'DES_DETITM', 'AP_RECEPTOR', 'AS1_RECEPTOR', 'AS2_RECEPTOR'], dtype='object')"
      ]
     },
     "execution_count": 77,
     "metadata": {},
     "output_type": "execute_result"
    }
   ],
   "source": [
    "Llaves.columns"
   ]
  },
  {
   "cell_type": "code",
   "execution_count": 78,
   "metadata": {
    "collapsed": true
   },
   "outputs": [],
   "source": [
    "Llaves.rename(columns={'DES_DETITM': \"Descripcion\"}, inplace=True)"
   ]
  },
  {
   "cell_type": "code",
   "execution_count": 79,
   "metadata": {
    "collapsed": true
   },
   "outputs": [],
   "source": [
    "Llaves = Llaves[~Llaves['Descripcion'].isnull()]"
   ]
  },
  {
   "cell_type": "code",
   "execution_count": 80,
   "metadata": {},
   "outputs": [
    {
     "data": {
      "text/plain": [
       "(501410, 5)"
      ]
     },
     "execution_count": 80,
     "metadata": {},
     "output_type": "execute_result"
    }
   ],
   "source": [
    "Llaves.shape"
   ]
  },
  {
   "cell_type": "code",
   "execution_count": 81,
   "metadata": {
    "collapsed": true
   },
   "outputs": [],
   "source": [
    "stemmer = SnowballStemmer(language=\"spanish\")"
   ]
  },
  {
   "cell_type": "code",
   "execution_count": 82,
   "metadata": {
    "collapsed": true
   },
   "outputs": [],
   "source": [
    "f = lambda x: [stemmer.stem(e) for e in x.split()]"
   ]
  },
  {
   "cell_type": "code",
   "execution_count": 83,
   "metadata": {
    "collapsed": true
   },
   "outputs": [],
   "source": [
    "# %%time\n",
    "# Llaves[\"palabras\"] = Llaves.Descripcion.apply(lambda x: f(x))\n",
    "# Llaves[\"palabras\"].head()"
   ]
  },
  {
   "cell_type": "code",
   "execution_count": 84,
   "metadata": {},
   "outputs": [
    {
     "name": "stdout",
     "output_type": "stream",
     "text": [
      "CPU times: user 36.9 s, sys: 14.9 s, total: 51.8 s\n",
      "Wall time: 1min 1s\n"
     ]
    }
   ],
   "source": [
    "%%time\n",
    "Llaves[\"palabras\"] = Llaves.Descripcion.swifter.apply(lambda x: f(x))\n",
    "Llaves[\"palabras\"].head()"
   ]
  },
  {
   "cell_type": "code",
   "execution_count": 85,
   "metadata": {},
   "outputs": [
    {
     "data": {
      "text/plain": [
       "Index(['llave', 'Descripcion', 'AP_RECEPTOR', 'AS1_RECEPTOR', 'AS2_RECEPTOR',\n",
       "       'palabras'],\n",
       "      dtype='object')"
      ]
     },
     "execution_count": 85,
     "metadata": {},
     "output_type": "execute_result"
    }
   ],
   "source": [
    "Llaves.columns"
   ]
  },
  {
   "cell_type": "code",
   "execution_count": 86,
   "metadata": {},
   "outputs": [
    {
     "data": {
      "text/html": [
       "<div>\n",
       "<style scoped>\n",
       "    .dataframe tbody tr th:only-of-type {\n",
       "        vertical-align: middle;\n",
       "    }\n",
       "\n",
       "    .dataframe tbody tr th {\n",
       "        vertical-align: top;\n",
       "    }\n",
       "\n",
       "    .dataframe thead th {\n",
       "        text-align: right;\n",
       "    }\n",
       "</style>\n",
       "<table border=\"1\" class=\"dataframe\">\n",
       "  <thead>\n",
       "    <tr style=\"text-align: right;\">\n",
       "      <th></th>\n",
       "      <th>llave</th>\n",
       "      <th>Descripcion</th>\n",
       "      <th>AP_RECEPTOR</th>\n",
       "      <th>AS1_RECEPTOR</th>\n",
       "      <th>AS2_RECEPTOR</th>\n",
       "      <th>palabras</th>\n",
       "    </tr>\n",
       "  </thead>\n",
       "  <tbody>\n",
       "    <tr>\n",
       "      <th>0</th>\n",
       "      <td>1_10000445458_E001_11</td>\n",
       "      <td>premios recibidos marco previsto numeral  manu...</td>\n",
       "      <td>OTRAS ACTIVIDADES EMPRESARIALES NCP.</td>\n",
       "      <td>None</td>\n",
       "      <td>None</td>\n",
       "      <td>[premi, recib, marc, previst, numeral, manual,...</td>\n",
       "    </tr>\n",
       "    <tr>\n",
       "      <th>1</th>\n",
       "      <td>1_10000445458_E001_12</td>\n",
       "      <td>premios recibidos marco previsto numeral  manu...</td>\n",
       "      <td>OTRAS ACTIVIDADES EMPRESARIALES NCP.</td>\n",
       "      <td>None</td>\n",
       "      <td>None</td>\n",
       "      <td>[premi, recib, marc, previst, numeral, manual,...</td>\n",
       "    </tr>\n",
       "    <tr>\n",
       "      <th>2</th>\n",
       "      <td>1_10000445458_E001_13</td>\n",
       "      <td>premios recibidos marco previsto numeral  manu...</td>\n",
       "      <td>OTRAS ACTIVIDADES EMPRESARIALES NCP.</td>\n",
       "      <td>None</td>\n",
       "      <td>None</td>\n",
       "      <td>[premi, recib, marc, previst, numeral, manual,...</td>\n",
       "    </tr>\n",
       "    <tr>\n",
       "      <th>3</th>\n",
       "      <td>1_10000860731_E001_2</td>\n",
       "      <td>alojamiento varios dias  trabajadores</td>\n",
       "      <td>OTRAS ACTIVID.DE TIPO SERVICIO NCP</td>\n",
       "      <td>None</td>\n",
       "      <td>None</td>\n",
       "      <td>[aloj, vari, dias, trabaj]</td>\n",
       "    </tr>\n",
       "    <tr>\n",
       "      <th>4</th>\n",
       "      <td>1_10000949944_E001_16</td>\n",
       "      <td>trabajos administrativos puerto ushico</td>\n",
       "      <td>VENTA PARTES, PIEZAS, ACCESORIOS.</td>\n",
       "      <td>VENTA DE VEHICULOS AUTOMOTORES.</td>\n",
       "      <td>None</td>\n",
       "      <td>[trabaj, administr, puert, ushic]</td>\n",
       "    </tr>\n",
       "  </tbody>\n",
       "</table>\n",
       "</div>"
      ],
      "text/plain": [
       "                   llave                                        Descripcion  \\\n",
       "0  1_10000445458_E001_11  premios recibidos marco previsto numeral  manu...   \n",
       "1  1_10000445458_E001_12  premios recibidos marco previsto numeral  manu...   \n",
       "2  1_10000445458_E001_13  premios recibidos marco previsto numeral  manu...   \n",
       "3   1_10000860731_E001_2              alojamiento varios dias  trabajadores   \n",
       "4  1_10000949944_E001_16             trabajos administrativos puerto ushico   \n",
       "\n",
       "                            AP_RECEPTOR                     AS1_RECEPTOR  \\\n",
       "0  OTRAS ACTIVIDADES EMPRESARIALES NCP.                             None   \n",
       "1  OTRAS ACTIVIDADES EMPRESARIALES NCP.                             None   \n",
       "2  OTRAS ACTIVIDADES EMPRESARIALES NCP.                             None   \n",
       "3    OTRAS ACTIVID.DE TIPO SERVICIO NCP                             None   \n",
       "4     VENTA PARTES, PIEZAS, ACCESORIOS.  VENTA DE VEHICULOS AUTOMOTORES.   \n",
       "\n",
       "  AS2_RECEPTOR                                           palabras  \n",
       "0         None  [premi, recib, marc, previst, numeral, manual,...  \n",
       "1         None  [premi, recib, marc, previst, numeral, manual,...  \n",
       "2         None  [premi, recib, marc, previst, numeral, manual,...  \n",
       "3         None                         [aloj, vari, dias, trabaj]  \n",
       "4         None                  [trabaj, administr, puert, ushic]  "
      ]
     },
     "execution_count": 86,
     "metadata": {},
     "output_type": "execute_result"
    }
   ],
   "source": [
    "Llaves.head()"
   ]
  },
  {
   "cell_type": "code",
   "execution_count": 87,
   "metadata": {},
   "outputs": [
    {
     "data": {
      "text/plain": [
       "(501410, 6)"
      ]
     },
     "execution_count": 87,
     "metadata": {},
     "output_type": "execute_result"
    }
   ],
   "source": [
    "Llaves.shape"
   ]
  },
  {
   "cell_type": "code",
   "execution_count": null,
   "metadata": {
    "collapsed": true
   },
   "outputs": [],
   "source": [
    "# %%time\n",
    "# P_ll_r = pd.DataFrame()\n",
    "# for index, row in Llaves.iterrows():\n",
    "#     df_t = pd.DataFrame(row['palabras'], columns=[\"pal\"])\n",
    "#     df_t[\"llave\"] = row['llave']\n",
    "#     df_t[\"AP_RECEPTOR\"] = row['AP_RECEPTOR']\n",
    "#     df_t[\"AS1_RECEPTOR\"] = row['AS1_RECEPTOR']\n",
    "#     df_t[\"AS2_RECEPTOR\"] = row['AS2_RECEPTOR']\n",
    "#     P_ll_r = pd.concat([P_ll_r, df_t], axis=0)\n",
    "#     P_ll_r\n",
    "\n"
   ]
  },
  {
   "cell_type": "code",
   "execution_count": 88,
   "metadata": {
    "collapsed": true
   },
   "outputs": [],
   "source": [
    "def explode(df, lst_cols, fill_value=''):\n",
    "    # make sure `lst_cols` is a list\n",
    "    if lst_cols and not isinstance(lst_cols, list):\n",
    "        lst_cols = [lst_cols]\n",
    "    # all columns except `lst_cols`\n",
    "    idx_cols = df.columns.difference(lst_cols)\n",
    "\n",
    "    # calculate lengths of lists\n",
    "    lens = df[lst_cols[0]].str.len()\n",
    "\n",
    "    if (lens > 0).all():\n",
    "        # ALL lists in cells aren't empty\n",
    "        return pd.DataFrame({\n",
    "            col:np.repeat(df[col].values, lens)\n",
    "            for col in idx_cols\n",
    "        }).assign(**{col:np.concatenate(df[col].values) for col in lst_cols}) \\\n",
    "          .loc[:, df.columns]\n",
    "    else:\n",
    "        # at least one list in cells is empty\n",
    "        return pd.DataFrame({\n",
    "            col:np.repeat(df[col].values, lens)\n",
    "            for col in idx_cols\n",
    "        }).assign(**{col:np.concatenate(df[col].values) for col in lst_cols}) \\\n",
    "          .append(df.loc[lens==0, idx_cols]).fillna(fill_value) \\\n",
    "          .loc[:, df.columns]"
   ]
  },
  {
   "cell_type": "code",
   "execution_count": 89,
   "metadata": {},
   "outputs": [
    {
     "name": "stderr",
     "output_type": "stream",
     "text": [
      "/data/anaconda3/lib/python3.6/site-packages/pandas/core/frame.py:6211: FutureWarning: Sorting because non-concatenation axis is not aligned. A future version\n",
      "of pandas will change to not sort by default.\n",
      "\n",
      "To accept the future behavior, pass 'sort=False'.\n",
      "\n",
      "To retain the current behavior and silence the warning, pass 'sort=True'.\n",
      "\n",
      "  sort=sort)\n"
     ]
    },
    {
     "name": "stdout",
     "output_type": "stream",
     "text": [
      "CPU times: user 10.8 s, sys: 2.77 s, total: 13.6 s\n",
      "Wall time: 13.6 s\n"
     ]
    }
   ],
   "source": [
    "%%time\n",
    "P_ll_r = explode(Llaves, ['palabras'], fill_value='')\n"
   ]
  },
  {
   "cell_type": "code",
   "execution_count": 90,
   "metadata": {
    "collapsed": true
   },
   "outputs": [],
   "source": [
    "P_ll_r.drop('Descripcion', axis=1, inplace=True)\n",
    "P_ll_r.rename(columns={'palabras': \"pal\"}, inplace=True)"
   ]
  },
  {
   "cell_type": "code",
   "execution_count": null,
   "metadata": {
    "collapsed": true
   },
   "outputs": [],
   "source": [
    "# %%time\n",
    "# P_ll_r = pd.DataFrame({ \"llave\": np.repeat(Llaves.llave.values, \n",
    "#                      [len(x) for x in (chain.from_iterable(Llaves.palabras))]),\n",
    "#                      \"palabras\": list(chain.from_iterable(chain.from_iterable(Llaves.palabras))),\n",
    "#                      \"AP_RECEPTOR\":np.repeat(Llaves.AP_RECEPTOR.values, \n",
    "#                      [len(x) for x in (chain.from_iterable(Llaves.palabras))]),\n",
    "#                       \"AS1_RECEPTOR\":np.repeat(Llaves.AS1_RECEPTOR.values, \n",
    "#                      [len(x) for x in (chain.from_iterable(Llaves.palabras))]),\n",
    "#                       \"AS2_RECEPTOR\":np.repeat(Llaves.AS2_RECEPTOR.values, \n",
    "#                      [len(x) for x in (chain.from_iterable(Llaves.palabras))])})"
   ]
  },
  {
   "cell_type": "code",
   "execution_count": 91,
   "metadata": {},
   "outputs": [
    {
     "data": {
      "text/plain": [
       "(5318987, 5)"
      ]
     },
     "execution_count": 91,
     "metadata": {},
     "output_type": "execute_result"
    }
   ],
   "source": [
    "P_ll_r.shape"
   ]
  },
  {
   "cell_type": "code",
   "execution_count": 92,
   "metadata": {},
   "outputs": [
    {
     "data": {
      "text/html": [
       "<div>\n",
       "<style scoped>\n",
       "    .dataframe tbody tr th:only-of-type {\n",
       "        vertical-align: middle;\n",
       "    }\n",
       "\n",
       "    .dataframe tbody tr th {\n",
       "        vertical-align: top;\n",
       "    }\n",
       "\n",
       "    .dataframe thead th {\n",
       "        text-align: right;\n",
       "    }\n",
       "</style>\n",
       "<table border=\"1\" class=\"dataframe\">\n",
       "  <thead>\n",
       "    <tr style=\"text-align: right;\">\n",
       "      <th></th>\n",
       "      <th>llave</th>\n",
       "      <th>AP_RECEPTOR</th>\n",
       "      <th>AS1_RECEPTOR</th>\n",
       "      <th>AS2_RECEPTOR</th>\n",
       "      <th>pal</th>\n",
       "    </tr>\n",
       "  </thead>\n",
       "  <tbody>\n",
       "    <tr>\n",
       "      <th>0</th>\n",
       "      <td>1_10000445458_E001_11</td>\n",
       "      <td>OTRAS ACTIVIDADES EMPRESARIALES NCP.</td>\n",
       "      <td></td>\n",
       "      <td></td>\n",
       "      <td>premi</td>\n",
       "    </tr>\n",
       "    <tr>\n",
       "      <th>1</th>\n",
       "      <td>1_10000445458_E001_11</td>\n",
       "      <td>OTRAS ACTIVIDADES EMPRESARIALES NCP.</td>\n",
       "      <td></td>\n",
       "      <td></td>\n",
       "      <td>recib</td>\n",
       "    </tr>\n",
       "    <tr>\n",
       "      <th>2</th>\n",
       "      <td>1_10000445458_E001_11</td>\n",
       "      <td>OTRAS ACTIVIDADES EMPRESARIALES NCP.</td>\n",
       "      <td></td>\n",
       "      <td></td>\n",
       "      <td>marc</td>\n",
       "    </tr>\n",
       "    <tr>\n",
       "      <th>3</th>\n",
       "      <td>1_10000445458_E001_11</td>\n",
       "      <td>OTRAS ACTIVIDADES EMPRESARIALES NCP.</td>\n",
       "      <td></td>\n",
       "      <td></td>\n",
       "      <td>previst</td>\n",
       "    </tr>\n",
       "    <tr>\n",
       "      <th>4</th>\n",
       "      <td>1_10000445458_E001_11</td>\n",
       "      <td>OTRAS ACTIVIDADES EMPRESARIALES NCP.</td>\n",
       "      <td></td>\n",
       "      <td></td>\n",
       "      <td>numeral</td>\n",
       "    </tr>\n",
       "  </tbody>\n",
       "</table>\n",
       "</div>"
      ],
      "text/plain": [
       "                   llave                           AP_RECEPTOR AS1_RECEPTOR  \\\n",
       "0  1_10000445458_E001_11  OTRAS ACTIVIDADES EMPRESARIALES NCP.                \n",
       "1  1_10000445458_E001_11  OTRAS ACTIVIDADES EMPRESARIALES NCP.                \n",
       "2  1_10000445458_E001_11  OTRAS ACTIVIDADES EMPRESARIALES NCP.                \n",
       "3  1_10000445458_E001_11  OTRAS ACTIVIDADES EMPRESARIALES NCP.                \n",
       "4  1_10000445458_E001_11  OTRAS ACTIVIDADES EMPRESARIALES NCP.                \n",
       "\n",
       "  AS2_RECEPTOR      pal  \n",
       "0                 premi  \n",
       "1                 recib  \n",
       "2                  marc  \n",
       "3               previst  \n",
       "4               numeral  "
      ]
     },
     "execution_count": 92,
     "metadata": {},
     "output_type": "execute_result"
    }
   ],
   "source": [
    "P_ll_r.head()"
   ]
  },
  {
   "cell_type": "code",
   "execution_count": 19,
   "metadata": {
    "collapsed": true
   },
   "outputs": [],
   "source": [
    "Wr = pd.read_csv(\"Words_gnd.csv\", encoding='latin1')"
   ]
  },
  {
   "cell_type": "code",
   "execution_count": 20,
   "metadata": {},
   "outputs": [
    {
     "data": {
      "text/html": [
       "<div>\n",
       "<style scoped>\n",
       "    .dataframe tbody tr th:only-of-type {\n",
       "        vertical-align: middle;\n",
       "    }\n",
       "\n",
       "    .dataframe tbody tr th {\n",
       "        vertical-align: top;\n",
       "    }\n",
       "\n",
       "    .dataframe thead th {\n",
       "        text-align: right;\n",
       "    }\n",
       "</style>\n",
       "<table border=\"1\" class=\"dataframe\">\n",
       "  <thead>\n",
       "    <tr style=\"text-align: right;\">\n",
       "      <th></th>\n",
       "      <th>cwords</th>\n",
       "      <th>APY</th>\n",
       "    </tr>\n",
       "  </thead>\n",
       "  <tbody>\n",
       "    <tr>\n",
       "      <th>0</th>\n",
       "      <td>gallet</td>\n",
       "      <td>OTRAS ACTIVIDADES EMPRESARIALES NCP.</td>\n",
       "    </tr>\n",
       "    <tr>\n",
       "      <th>1</th>\n",
       "      <td>gase</td>\n",
       "      <td>OTRAS ACTIVIDADES EMPRESARIALES NCP.</td>\n",
       "    </tr>\n",
       "    <tr>\n",
       "      <th>2</th>\n",
       "      <td>ques</td>\n",
       "      <td>OTRAS ACTIVIDADES EMPRESARIALES NCP.</td>\n",
       "    </tr>\n",
       "    <tr>\n",
       "      <th>3</th>\n",
       "      <td>poll</td>\n",
       "      <td>OTRAS ACTIVIDADES EMPRESARIALES NCP.</td>\n",
       "    </tr>\n",
       "    <tr>\n",
       "      <th>4</th>\n",
       "      <td>limon</td>\n",
       "      <td>OTRAS ACTIVIDADES EMPRESARIALES NCP.</td>\n",
       "    </tr>\n",
       "  </tbody>\n",
       "</table>\n",
       "</div>"
      ],
      "text/plain": [
       "   cwords                                   APY\n",
       "0  gallet  OTRAS ACTIVIDADES EMPRESARIALES NCP.\n",
       "1    gase  OTRAS ACTIVIDADES EMPRESARIALES NCP.\n",
       "2    ques  OTRAS ACTIVIDADES EMPRESARIALES NCP.\n",
       "3    poll  OTRAS ACTIVIDADES EMPRESARIALES NCP.\n",
       "4   limon  OTRAS ACTIVIDADES EMPRESARIALES NCP."
      ]
     },
     "execution_count": 20,
     "metadata": {},
     "output_type": "execute_result"
    }
   ],
   "source": [
    "Wr.head()"
   ]
  },
  {
   "cell_type": "code",
   "execution_count": 94,
   "metadata": {
    "collapsed": true
   },
   "outputs": [],
   "source": [
    "Wr['control'] = 1"
   ]
  },
  {
   "cell_type": "code",
   "execution_count": 95,
   "metadata": {
    "collapsed": true
   },
   "outputs": [],
   "source": [
    "PrWr = pd.merge(P_ll_r, Wr, how='left', left_on=['pal', 'AP_RECEPTOR'], right_on=['cwords', 'APY'])\n",
    "PrWr.control.fillna(0, inplace=True)\n",
    "PrWr2 = pd.merge(P_ll_r, Wr, how='left', left_on=['pal', 'AS1_RECEPTOR'], right_on=['cwords', 'APY'])\n",
    "PrWr2.control.fillna(0, inplace=True)\n",
    "PrWr3 = pd.merge(P_ll_r, Wr, how='left', left_on=['pal', 'AS2_RECEPTOR'], right_on=['cwords', 'APY'])\n",
    "PrWr3.control.fillna(0, inplace=True)"
   ]
  },
  {
   "cell_type": "code",
   "execution_count": 96,
   "metadata": {
    "collapsed": true
   },
   "outputs": [],
   "source": [
    "PrWr['control'] = np.where((PrWr['control'] + PrWr2['control'] + PrWr3['control']) == 0, 0, 1)"
   ]
  },
  {
   "cell_type": "code",
   "execution_count": 97,
   "metadata": {
    "collapsed": true
   },
   "outputs": [],
   "source": [
    "LlavesR = PrWr.groupby('llave', as_index=False).agg({'control': [np.sum, len]}, level=1)\n",
    "#LlavesR = PrWr.groupby('llave').size()\n",
    "#LlavesR.head()\n",
    "LlavesR.columns = LlavesR.columns.droplevel()\n",
    "LlavesR.columns = ['llave', 'Suma', 'N']"
   ]
  },
  {
   "cell_type": "code",
   "execution_count": 98,
   "metadata": {
    "collapsed": true
   },
   "outputs": [],
   "source": [
    "LlavesR['PropDif'] = 1-(LlavesR['Suma']/LlavesR['N'])"
   ]
  },
  {
   "cell_type": "code",
   "execution_count": 99,
   "metadata": {
    "collapsed": true
   },
   "outputs": [],
   "source": [
    "detalle = CPEjoin[['llave', 'DES_DETITM']]\n",
    "facturas = CPEjoin[['RECEPTOR', 'RS_RECEPTOR', 'AP_RECEPTOR', 'AS1_RECEPTOR', 'AS2_RECEPTOR', 'llave',\n",
    "                    'EMISOR', 'RS_EMISOR', 'AP_EMISOR', 'AS1_EMISOR', 'AS2_EMISOR','dia_semana', 'dia_mes',\n",
    "                    'MTO_IMPCPE', 'MTO_IGVCPE', 'MTO_TOTAL', 'FEC_EMICPE', 'regimen_recep', 'tipo_emp_recep']]"
   ]
  },
  {
   "cell_type": "code",
   "execution_count": 100,
   "metadata": {
    "collapsed": true
   },
   "outputs": [],
   "source": [
    "facturas = facturas.drop_duplicates()"
   ]
  },
  {
   "cell_type": "code",
   "execution_count": 101,
   "metadata": {
    "collapsed": true
   },
   "outputs": [],
   "source": [
    "#detalle = pd.DataFrame(detalle.groupby(['llave']).apply(lambda x: ' ** '.join(x['DES_DETITM'])))\n",
    "detalle = detalle.groupby(['llave']).apply(lambda x: ' ** '.join(x['DES_DETITM']))\n",
    "detalle = detalle.reset_index()\n",
    "detalle.rename(columns={0: \"Descripcion\"}, inplace=True)"
   ]
  },
  {
   "cell_type": "code",
   "execution_count": 102,
   "metadata": {
    "collapsed": true
   },
   "outputs": [],
   "source": [
    "facturas = pd.merge(facturas, detalle, how='inner', on='llave')"
   ]
  },
  {
   "cell_type": "code",
   "execution_count": 103,
   "metadata": {
    "collapsed": true
   },
   "outputs": [],
   "source": [
    "facturas = pd.merge(facturas, LlavesR[['llave', 'PropDif']], how='inner', on='llave')"
   ]
  },
  {
   "cell_type": "code",
   "execution_count": 104,
   "metadata": {
    "collapsed": true
   },
   "outputs": [],
   "source": [
    "aux = facturas.groupby('EMISOR', as_index=False).agg({'MTO_TOTAL': np.sum}, level=1)\n",
    "aux.columns = ['EMISOR', 'MTO_TOT_GND']"
   ]
  },
  {
   "cell_type": "code",
   "execution_count": 105,
   "metadata": {
    "collapsed": true,
    "scrolled": true
   },
   "outputs": [],
   "source": [
    "facturas = pd.merge(facturas, aux, how='inner', on='EMISOR')"
   ]
  },
  {
   "cell_type": "code",
   "execution_count": 106,
   "metadata": {
    "collapsed": true
   },
   "outputs": [],
   "source": [
    "facturas = facturas[facturas.MTO_TOTAL >= 0.05*4150]\n",
    "facturas = facturas[facturas.PropDif > 0.2]"
   ]
  },
  {
   "cell_type": "code",
   "execution_count": 107,
   "metadata": {
    "collapsed": true
   },
   "outputs": [],
   "source": [
    "aux3 = pd.read_csv(\"vts_dec_men_pdt.csv\")"
   ]
  },
  {
   "cell_type": "code",
   "execution_count": 108,
   "metadata": {
    "collapsed": true
   },
   "outputs": [],
   "source": [
    "aux4 = facturas.groupby('EMISOR', as_index=False).agg({'MTO_TOTAL': np.sum}, level=1)\n",
    "aux4.columns = ['EMISOR', 'MTO_GND']"
   ]
  },
  {
   "cell_type": "code",
   "execution_count": 109,
   "metadata": {},
   "outputs": [
    {
     "data": {
      "text/html": [
       "<div>\n",
       "<style scoped>\n",
       "    .dataframe tbody tr th:only-of-type {\n",
       "        vertical-align: middle;\n",
       "    }\n",
       "\n",
       "    .dataframe tbody tr th {\n",
       "        vertical-align: top;\n",
       "    }\n",
       "\n",
       "    .dataframe thead th {\n",
       "        text-align: right;\n",
       "    }\n",
       "</style>\n",
       "<table border=\"1\" class=\"dataframe\">\n",
       "  <thead>\n",
       "    <tr style=\"text-align: right;\">\n",
       "      <th></th>\n",
       "      <th>EMISOR</th>\n",
       "      <th>MTO_GND</th>\n",
       "      <th>n_doc_declado</th>\n",
       "      <th>MTO_VTAS_DEC</th>\n",
       "      <th>rat1</th>\n",
       "    </tr>\n",
       "  </thead>\n",
       "  <tbody>\n",
       "    <tr>\n",
       "      <th>0</th>\n",
       "      <td>10000860731</td>\n",
       "      <td>1900.00</td>\n",
       "      <td>10000860731</td>\n",
       "      <td>0.000000</td>\n",
       "      <td>1.000000</td>\n",
       "    </tr>\n",
       "    <tr>\n",
       "      <th>1</th>\n",
       "      <td>10000949944</td>\n",
       "      <td>2337.68</td>\n",
       "      <td>10000949944</td>\n",
       "      <td>0.000000</td>\n",
       "      <td>1.000000</td>\n",
       "    </tr>\n",
       "    <tr>\n",
       "      <th>2</th>\n",
       "      <td>10001770859</td>\n",
       "      <td>1366.89</td>\n",
       "      <td>10001770859</td>\n",
       "      <td>0.000000</td>\n",
       "      <td>1.000000</td>\n",
       "    </tr>\n",
       "    <tr>\n",
       "      <th>3</th>\n",
       "      <td>10004231266</td>\n",
       "      <td>1608.50</td>\n",
       "      <td>10004231266</td>\n",
       "      <td>25617.916667</td>\n",
       "      <td>0.062788</td>\n",
       "    </tr>\n",
       "    <tr>\n",
       "      <th>4</th>\n",
       "      <td>10004475084</td>\n",
       "      <td>2586.69</td>\n",
       "      <td>10004475084</td>\n",
       "      <td>817.000000</td>\n",
       "      <td>1.000000</td>\n",
       "    </tr>\n",
       "  </tbody>\n",
       "</table>\n",
       "</div>"
      ],
      "text/plain": [
       "        EMISOR  MTO_GND  n_doc_declado  MTO_VTAS_DEC      rat1\n",
       "0  10000860731  1900.00    10000860731      0.000000  1.000000\n",
       "1  10000949944  2337.68    10000949944      0.000000  1.000000\n",
       "2  10001770859  1366.89    10001770859      0.000000  1.000000\n",
       "3  10004231266  1608.50    10004231266  25617.916667  0.062788\n",
       "4  10004475084  2586.69    10004475084    817.000000  1.000000"
      ]
     },
     "execution_count": 109,
     "metadata": {},
     "output_type": "execute_result"
    }
   ],
   "source": [
    "aux5 = pd.merge(aux4, aux3, how='inner', left_on='EMISOR', right_on= 'n_doc_declado')\n",
    "aux5['rat1'] = np.where(aux5.MTO_VTAS_DEC==0,1,aux5.MTO_GND/aux5.MTO_VTAS_DEC)\n",
    "aux5['rat1'] = np.where(aux5.rat1>1,1,aux5.rat1)\n",
    "aux5.head()\n",
    "#aux5$rat1 <- ifelse(aux5$MTO_VTAS_DEC==0,1,aux5$MTO_GND/aux5$MTO_VTAS_DEC)\n"
   ]
  },
  {
   "cell_type": "code",
   "execution_count": 110,
   "metadata": {
    "collapsed": true
   },
   "outputs": [],
   "source": [
    "facturas = pd.merge(facturas, aux5[['EMISOR', 'MTO_GND', 'MTO_VTAS_DEC','rat1']], how='inner', on='EMISOR')\n",
    "facturas = facturas[facturas.rat1>0.1]"
   ]
  },
  {
   "cell_type": "code",
   "execution_count": 111,
   "metadata": {},
   "outputs": [
    {
     "data": {
      "text/html": [
       "<div>\n",
       "<style scoped>\n",
       "    .dataframe tbody tr th:only-of-type {\n",
       "        vertical-align: middle;\n",
       "    }\n",
       "\n",
       "    .dataframe tbody tr th {\n",
       "        vertical-align: top;\n",
       "    }\n",
       "\n",
       "    .dataframe thead th {\n",
       "        text-align: right;\n",
       "    }\n",
       "</style>\n",
       "<table border=\"1\" class=\"dataframe\">\n",
       "  <thead>\n",
       "    <tr style=\"text-align: right;\">\n",
       "      <th></th>\n",
       "      <th>RECEPTOR</th>\n",
       "      <th>RS_RECEPTOR</th>\n",
       "      <th>AP_RECEPTOR</th>\n",
       "      <th>AS1_RECEPTOR</th>\n",
       "      <th>AS2_RECEPTOR</th>\n",
       "      <th>llave</th>\n",
       "      <th>EMISOR</th>\n",
       "      <th>RS_EMISOR</th>\n",
       "      <th>AP_EMISOR</th>\n",
       "      <th>AS1_EMISOR</th>\n",
       "      <th>...</th>\n",
       "      <th>MTO_TOTAL</th>\n",
       "      <th>FEC_EMICPE</th>\n",
       "      <th>regimen_recep</th>\n",
       "      <th>tipo_emp_recep</th>\n",
       "      <th>Descripcion</th>\n",
       "      <th>PropDif</th>\n",
       "      <th>MTO_TOT_GND</th>\n",
       "      <th>MTO_GND</th>\n",
       "      <th>MTO_VTAS_DEC</th>\n",
       "      <th>rat1</th>\n",
       "    </tr>\n",
       "  </thead>\n",
       "  <tbody>\n",
       "    <tr>\n",
       "      <th>15216</th>\n",
       "      <td>20464993879</td>\n",
       "      <td>ORBIS VENTURES S.A.C.                         ...</td>\n",
       "      <td>PROCESAMIENTO DE DATOS.</td>\n",
       "      <td>None</td>\n",
       "      <td>None</td>\n",
       "      <td>1_20545199662_F002_108</td>\n",
       "      <td>20545199662</td>\n",
       "      <td>FAT FISH S.A.C.                               ...</td>\n",
       "      <td>RESTAURANTES, BARES Y CANTINAS.</td>\n",
       "      <td>NaN</td>\n",
       "      <td>...</td>\n",
       "      <td>217.08</td>\n",
       "      <td>2018-09-11 00:00:00</td>\n",
       "      <td>REGIMEN GENERAL</td>\n",
       "      <td>SOCIEDAD ANONIMA CERRADA</td>\n",
       "      <td>causa placer langostinos ** tal concha  uni **...</td>\n",
       "      <td>0.750000</td>\n",
       "      <td>28121.11</td>\n",
       "      <td>14804.71</td>\n",
       "      <td>123969.166667</td>\n",
       "      <td>0.119423</td>\n",
       "    </tr>\n",
       "    <tr>\n",
       "      <th>15217</th>\n",
       "      <td>10278508779</td>\n",
       "      <td>RODRIGUEZ NUÃEZ WILBERTO LEONEL              ...</td>\n",
       "      <td>VTA. MAY. A CAMBIO DE UNA RETRIBUCION.</td>\n",
       "      <td>INVESTIGACION DE MERCADOS</td>\n",
       "      <td>None</td>\n",
       "      <td>1_20545199662_F001_101</td>\n",
       "      <td>20545199662</td>\n",
       "      <td>FAT FISH S.A.C.                               ...</td>\n",
       "      <td>RESTAURANTES, BARES Y CANTINAS.</td>\n",
       "      <td>NaN</td>\n",
       "      <td>...</td>\n",
       "      <td>257.62</td>\n",
       "      <td>2018-09-02 00:00:00</td>\n",
       "      <td>RÉGIMEN MYPE TRIBUTARIO</td>\n",
       "      <td>PERSONA NATURAL CON NEGOCIO</td>\n",
       "      <td>leche pez on ** chupe pez on pescado ** chicha...</td>\n",
       "      <td>0.696970</td>\n",
       "      <td>28121.11</td>\n",
       "      <td>14804.71</td>\n",
       "      <td>123969.166667</td>\n",
       "      <td>0.119423</td>\n",
       "    </tr>\n",
       "    <tr>\n",
       "      <th>15218</th>\n",
       "      <td>20602579078</td>\n",
       "      <td>ATLAS COPCO PERU S.A.C.                       ...</td>\n",
       "      <td>VTA. MAY. MAQUINARIA, EQUIPO Y MATER.</td>\n",
       "      <td>None</td>\n",
       "      <td>None</td>\n",
       "      <td>1_20545199662_F001_122</td>\n",
       "      <td>20545199662</td>\n",
       "      <td>FAT FISH S.A.C.                               ...</td>\n",
       "      <td>RESTAURANTES, BARES Y CANTINAS.</td>\n",
       "      <td>NaN</td>\n",
       "      <td>...</td>\n",
       "      <td>265.90</td>\n",
       "      <td>2018-09-11 00:00:00</td>\n",
       "      <td>REGIMEN GENERAL</td>\n",
       "      <td>SOCIEDAD ANONIMA CERRADA</td>\n",
       "      <td>orgia marina causa ** inca kola light ml ** ag...</td>\n",
       "      <td>0.777778</td>\n",
       "      <td>28121.11</td>\n",
       "      <td>14804.71</td>\n",
       "      <td>123969.166667</td>\n",
       "      <td>0.119423</td>\n",
       "    </tr>\n",
       "    <tr>\n",
       "      <th>15219</th>\n",
       "      <td>20503610711</td>\n",
       "      <td>TARIS S.A.                                    ...</td>\n",
       "      <td>ELIMINACION DE DESPERDICIOS</td>\n",
       "      <td>None</td>\n",
       "      <td>None</td>\n",
       "      <td>1_20545199662_E001_97</td>\n",
       "      <td>20545199662</td>\n",
       "      <td>FAT FISH S.A.C.                               ...</td>\n",
       "      <td>RESTAURANTES, BARES Y CANTINAS.</td>\n",
       "      <td>NaN</td>\n",
       "      <td>...</td>\n",
       "      <td>281.03</td>\n",
       "      <td>2018-09-18 00:00:00</td>\n",
       "      <td>REGIMEN GENERAL</td>\n",
       "      <td>SOCIEDAD ANONIMA</td>\n",
       "      <td>almuerzos</td>\n",
       "      <td>1.000000</td>\n",
       "      <td>28121.11</td>\n",
       "      <td>14804.71</td>\n",
       "      <td>123969.166667</td>\n",
       "      <td>0.119423</td>\n",
       "    </tr>\n",
       "    <tr>\n",
       "      <th>15220</th>\n",
       "      <td>20503610711</td>\n",
       "      <td>TARIS S.A.                                    ...</td>\n",
       "      <td>ELIMINACION DE DESPERDICIOS</td>\n",
       "      <td>None</td>\n",
       "      <td>None</td>\n",
       "      <td>1_20545199662_E001_104</td>\n",
       "      <td>20545199662</td>\n",
       "      <td>FAT FISH S.A.C.                               ...</td>\n",
       "      <td>RESTAURANTES, BARES Y CANTINAS.</td>\n",
       "      <td>NaN</td>\n",
       "      <td>...</td>\n",
       "      <td>504.38</td>\n",
       "      <td>2018-09-25 00:00:00</td>\n",
       "      <td>REGIMEN GENERAL</td>\n",
       "      <td>SOCIEDAD ANONIMA</td>\n",
       "      <td>almuerzo ** almuerzos</td>\n",
       "      <td>1.000000</td>\n",
       "      <td>28121.11</td>\n",
       "      <td>14804.71</td>\n",
       "      <td>123969.166667</td>\n",
       "      <td>0.119423</td>\n",
       "    </tr>\n",
       "  </tbody>\n",
       "</table>\n",
       "<p>5 rows × 25 columns</p>\n",
       "</div>"
      ],
      "text/plain": [
       "          RECEPTOR                                        RS_RECEPTOR  \\\n",
       "15216  20464993879  ORBIS VENTURES S.A.C.                         ...   \n",
       "15217  10278508779  RODRIGUEZ NUÃEZ WILBERTO LEONEL              ...   \n",
       "15218  20602579078  ATLAS COPCO PERU S.A.C.                       ...   \n",
       "15219  20503610711  TARIS S.A.                                    ...   \n",
       "15220  20503610711  TARIS S.A.                                    ...   \n",
       "\n",
       "                                  AP_RECEPTOR               AS1_RECEPTOR  \\\n",
       "15216                 PROCESAMIENTO DE DATOS.                       None   \n",
       "15217  VTA. MAY. A CAMBIO DE UNA RETRIBUCION.  INVESTIGACION DE MERCADOS   \n",
       "15218   VTA. MAY. MAQUINARIA, EQUIPO Y MATER.                       None   \n",
       "15219             ELIMINACION DE DESPERDICIOS                       None   \n",
       "15220             ELIMINACION DE DESPERDICIOS                       None   \n",
       "\n",
       "      AS2_RECEPTOR                   llave       EMISOR  \\\n",
       "15216         None  1_20545199662_F002_108  20545199662   \n",
       "15217         None  1_20545199662_F001_101  20545199662   \n",
       "15218         None  1_20545199662_F001_122  20545199662   \n",
       "15219         None   1_20545199662_E001_97  20545199662   \n",
       "15220         None  1_20545199662_E001_104  20545199662   \n",
       "\n",
       "                                               RS_EMISOR  \\\n",
       "15216  FAT FISH S.A.C.                               ...   \n",
       "15217  FAT FISH S.A.C.                               ...   \n",
       "15218  FAT FISH S.A.C.                               ...   \n",
       "15219  FAT FISH S.A.C.                               ...   \n",
       "15220  FAT FISH S.A.C.                               ...   \n",
       "\n",
       "                             AP_EMISOR AS1_EMISOR    ...    MTO_TOTAL  \\\n",
       "15216  RESTAURANTES, BARES Y CANTINAS.        NaN    ...       217.08   \n",
       "15217  RESTAURANTES, BARES Y CANTINAS.        NaN    ...       257.62   \n",
       "15218  RESTAURANTES, BARES Y CANTINAS.        NaN    ...       265.90   \n",
       "15219  RESTAURANTES, BARES Y CANTINAS.        NaN    ...       281.03   \n",
       "15220  RESTAURANTES, BARES Y CANTINAS.        NaN    ...       504.38   \n",
       "\n",
       "                FEC_EMICPE            regimen_recep  \\\n",
       "15216  2018-09-11 00:00:00          REGIMEN GENERAL   \n",
       "15217  2018-09-02 00:00:00  RÉGIMEN MYPE TRIBUTARIO   \n",
       "15218  2018-09-11 00:00:00          REGIMEN GENERAL   \n",
       "15219  2018-09-18 00:00:00          REGIMEN GENERAL   \n",
       "15220  2018-09-25 00:00:00          REGIMEN GENERAL   \n",
       "\n",
       "                    tipo_emp_recep  \\\n",
       "15216     SOCIEDAD ANONIMA CERRADA   \n",
       "15217  PERSONA NATURAL CON NEGOCIO   \n",
       "15218     SOCIEDAD ANONIMA CERRADA   \n",
       "15219             SOCIEDAD ANONIMA   \n",
       "15220             SOCIEDAD ANONIMA   \n",
       "\n",
       "                                             Descripcion   PropDif  \\\n",
       "15216  causa placer langostinos ** tal concha  uni **...  0.750000   \n",
       "15217  leche pez on ** chupe pez on pescado ** chicha...  0.696970   \n",
       "15218  orgia marina causa ** inca kola light ml ** ag...  0.777778   \n",
       "15219                                          almuerzos  1.000000   \n",
       "15220                              almuerzo ** almuerzos  1.000000   \n",
       "\n",
       "      MTO_TOT_GND   MTO_GND   MTO_VTAS_DEC      rat1  \n",
       "15216    28121.11  14804.71  123969.166667  0.119423  \n",
       "15217    28121.11  14804.71  123969.166667  0.119423  \n",
       "15218    28121.11  14804.71  123969.166667  0.119423  \n",
       "15219    28121.11  14804.71  123969.166667  0.119423  \n",
       "15220    28121.11  14804.71  123969.166667  0.119423  \n",
       "\n",
       "[5 rows x 25 columns]"
      ]
     },
     "execution_count": 111,
     "metadata": {},
     "output_type": "execute_result"
    }
   ],
   "source": [
    "facturas.head()"
   ]
  },
  {
   "cell_type": "code",
   "execution_count": null,
   "metadata": {
    "collapsed": true
   },
   "outputs": [],
   "source": [
    "facturas.to_csv('fact_gnd.csv', encoding='utf-8', index=False)"
   ]
  },
  {
   "cell_type": "code",
   "execution_count": null,
   "metadata": {
    "collapsed": true
   },
   "outputs": [],
   "source": []
  }
 ],
 "metadata": {
  "kernelspec": {
   "display_name": "Python 3",
   "language": "python",
   "name": "python3"
  },
  "language_info": {
   "codemirror_mode": {
    "name": "ipython",
    "version": 3
   },
   "file_extension": ".py",
   "mimetype": "text/x-python",
   "name": "python",
   "nbconvert_exporter": "python",
   "pygments_lexer": "ipython3",
   "version": "3.6.3"
  }
 },
 "nbformat": 4,
 "nbformat_minor": 2
}
